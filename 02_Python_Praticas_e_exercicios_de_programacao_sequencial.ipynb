{
  "nbformat": 4,
  "nbformat_minor": 0,
  "metadata": {
    "colab": {
      "name": "Python - Práticas e exercícios de programação sequencial v2",
      "provenance": [],
      "collapsed_sections": [
        "r0WpWpygRnTv"
      ]
    },
    "kernelspec": {
      "display_name": "Python 3",
      "language": "python",
      "name": "python3"
    },
    "language_info": {
      "codemirror_mode": {
        "name": "ipython",
        "version": 3
      },
      "file_extension": ".py",
      "mimetype": "text/x-python",
      "name": "python",
      "nbconvert_exporter": "python",
      "pygments_lexer": "ipython3",
      "version": "3.7.9"
    }
  },
  "cells": [
    {
      "cell_type": "markdown",
      "metadata": {
        "id": "r0WpWpygRnTv"
      },
      "source": [
        "# Instruções\n",
        "\n",
        "- IMPORTANTE: primeiro clique no círculo preto com a seta branca abaixo.\n",
        "\n",
        "- Faça cada um das atividades em sequência, alterando o trecho de código fornecido em cada célula para obter o resultado esperado.\n",
        "\n",
        "- Depois de alterar o trecho de código, use **SHIFT + ENTER** para executar este trecho. O resultado é exibido logo abaixo.\n",
        "\n",
        "- Então valide o resultado com **SHIFT + ENTER** novamente na célula que contém o comando **validar()**. Não remova ou altere esta linha.\n",
        "\n",
        "- Note que você pode desfazer a alteração em qualquer célula usando **CONTROL + Z**."
      ]
    },
    {
      "cell_type": "code",
      "metadata": {
        "id": "GoSb_6yyujWG"
      },
      "source": [
        "# Não se preocupe com este código. E nem faça alterações, por favor.\n",
        "\n",
        "import builtins\n",
        "import io\n",
        "\n",
        "from IPython.core.display import display, HTML, Markdown\n",
        "\n",
        "# practice core v2\n",
        "\n",
        "_INPUT = []\n",
        "_PRINT = []\n",
        "\n",
        "def input(*args, **kwargs):\n",
        "    s = builtins.input(*args, **kwargs)\n",
        "    _INPUT.append(s)\n",
        "    return s\n",
        "\n",
        "def print(*args, **kwargs):\n",
        "    s = _sprint(*args, **kwargs)\n",
        "    _PRINT.append(s)\n",
        "    return builtins.print(s)\n",
        "\n",
        "def _sprint(*args, end='', **kwargs):\n",
        "    sio = io.StringIO()\n",
        "    builtins.print(*args, **kwargs, end=end, file=sio)\n",
        "    return sio.getvalue()\n",
        "\n",
        "def _correct(msg='Correto!'):\n",
        "    display(HTML('<p style=\"background-color: LawnGreen; padding: 8px 8px 8px 8px;\"><b>{}</b></p>'.format(msg)))\n",
        "\n",
        "def _incorrect(msg):\n",
        "    display(HTML('<p style=\"background-color: Tomato; padding: 8px 8px 8px 8px;\">{}</p>'.format(msg)))\n",
        "\n",
        "def _hint(msg):\n",
        "    display(HTML('<p style=\"background-color: LightBlue; padding: 8px 8px 8px 8px;\">{}</p>'.format(msg)))\n",
        "\n",
        "def _out(value):\n",
        "    if repr(_) == repr(value):\n",
        "        return 0\n",
        "\n",
        "    if _ == '':\n",
        "        _incorrect('Não houve resultado, verifique se você executou seu código com SHIFT+ENTER.')\n",
        "        return 1\n",
        "    \n",
        "    if type(_) != type(value):\n",
        "        if type(value) == int:\n",
        "            _hint('Dica: o resultado precisa ser do tipo inteiro.')\n",
        "        elif type(value) == float:\n",
        "            _hint('Dica: o resultado precisa ser do tipo real.')\n",
        "        elif type(value) == bool:\n",
        "            _hint('Dica: o resultado precisa ser do tipo lógico.')\n",
        "        elif type(value) == str:\n",
        "            _hint('Dica: o resultado precisa ser do tipo string.')\n",
        "        else:\n",
        "            _hint('Dica: o resultado precisa ser de outro tipo.')\n",
        "    _incorrect('Resultado incorreto, tente novamente.')\n",
        "    return 1\n",
        "\n",
        "def _pri(lines): # expects a list of strings\n",
        "    if repr(_PRINT) == repr(lines):\n",
        "        return 0\n",
        "\n",
        "    if len(_PRINT) == 0:\n",
        "        _incorrect('Não houve saída, verifique se você usou o comando \"print()\" em seu código.')\n",
        "        return 1\n",
        "\n",
        "    if len(_PRINT) != len(lines):\n",
        "        if len(lines) == 1:\n",
        "            _hint('Dica: é esperada 1 linha de saída.')\n",
        "        else:\n",
        "            _hint('Dica: são esperadas {} linhas de saída.'.format(len(lines)))\n",
        "    else:\n",
        "        _incorrect('Saída incorreta, tente novamente')\n",
        "    return 1\n",
        "\n",
        "def _var(variables): # expects a dictionary of variable names and their respective values\n",
        "    result = 0\n",
        "    for name, value in variables.items():\n",
        "        if name not in globals():\n",
        "            _hint('Dica: a variável \"{}\" precisa ser declarada.'.format(name))\n",
        "            result = 1\n",
        "            continue\n",
        "\n",
        "        if repr(globals()[name]) == repr(value):\n",
        "            continue # OK by now\n",
        "\n",
        "        if type(globals()[name]) != type(value):\n",
        "            if type(value) == int:\n",
        "                _hint('Dica: a variável \"{}\" precisa ser do tipo inteiro.'.format(name))\n",
        "            elif type(value) == float:\n",
        "                _hint('Dica: a variável \"{}\" precisa ser do tipo real.'.format(name))\n",
        "            elif type(value) == bool:\n",
        "                _hint('Dica: a variável \"{}\" precisa ser do tipo lógico.'.format(name))\n",
        "            elif type(value) == str:\n",
        "                _hint('Dica: a variável \"{}\" precisa ser do tipo string.'.format(name))\n",
        "            else:\n",
        "                _hint('Dica: a variável \"{}\" precisa ser de outro tipo.'.format(name))\n",
        "        else:\n",
        "            _incorrect('Resultado incorreto para a variável \"{}\".'.format(name))\n",
        "        result = 1\n",
        "\n",
        "    return result\n",
        "\n",
        "def _clear():\n",
        "    global _INPUT, _PRINT\n",
        "    _INPUT = []\n",
        "    _PRINT = []\n",
        "    for name in set(globals()) - _GLOBALS:\n",
        "        if not name.startswith('_'):\n",
        "            #builtins.print('remove:', name)\n",
        "            globals().pop(name)\n",
        "\n",
        "def validar(n=None):\n",
        "    if n == None:\n",
        "        _incorrect('É preciso indicar o número da atividade. Volte o comando \"validar\" como estava antes!')\n",
        "    elif _test(n) == 0:\n",
        "        _correct()\n",
        "    _clear()\n",
        "\n",
        "_GLOBALS = set(globals())\n",
        "_GLOBALS.add('_GLOBALS')\n",
        "_GLOBALS.add('_test')"
      ],
      "execution_count": null,
      "outputs": []
    },
    {
      "cell_type": "code",
      "metadata": {
        "id": "2mi_jwCBZSVh"
      },
      "source": [
        "def _test(n):\n",
        "    if   n ==  1: return _var({'a': 1, 'b': 2})\n",
        "    elif n ==  2: return _var({'c': 1.2, 'd': 3.4, 'e': 4.6})\n",
        "    elif n ==  3: return _var({'x': True, 'y': False, 'z': True})\n",
        "    elif n ==  4: return _var({'c': 4})\n",
        "    elif n ==  5: return _var({'dividendo': 25, 'divisor': 4, 'quociente': 6, 'resto': 1})\n",
        "    elif n ==  6: return _var({'n': 2}) + _pri(['8'])\n",
        "    elif n ==  7: return _var({'m': 16}) + _pri(['O valor da variável m é 16'])\n",
        "    elif n ==  8: return _var({'valor': 250.0}) + _pri(['100.0'])\n",
        "    elif n ==  9: return _var({'idade': 12}) + _pri(['True'])\n",
        "    elif n == 10: return _pri(['True'])\n",
        "    elif n == 11: return _var({'a': 45, 'b': 86}) + _pri(['86'])\n",
        "    elif n == 12: return _pri(['13'])\n",
        "    elif n == 13: return _pri(['3.8'])\n",
        "    elif n == 14: return _var({'valor': 100, 'aumento': 15}) + _pri(['115.0'])\n",
        "    elif n == 15: return _var({'r': 4, 'pi': 3.14159}) + _pri(['50.26544'])\n",
        "    elif n == 16: return _var({'a': 15, 'b': 6, 'c': 27}) + _pri(['16.0'])\n",
        "    elif n == 17: return _var({'n': 42}) + _pri(['41', '43'])\n",
        "    elif n == 18: return _pri(['27', '9'])\n",
        "    elif n == 19: return _pri(['37655'])\n",
        "    elif n == 20: return _var({'p': 200, 'm': 175, 'g': 140}) + _pri(['6200'])"
      ],
      "execution_count": null,
      "outputs": []
    },
    {
      "cell_type": "markdown",
      "metadata": {
        "id": "2nj3eRk6Q1_n"
      },
      "source": [
        "# Variáveis"
      ]
    },
    {
      "cell_type": "markdown",
      "metadata": {
        "id": "oglGzfYvQhV6"
      },
      "source": [
        "## Prática 1\n",
        "Escreva um trecho de código que declare a variável **a** com 1 e a variável **b** com 2."
      ]
    },
    {
      "cell_type": "code",
      "metadata": {
        "id": "0n0wf32_QhV9"
      },
      "source": [
        ""
      ],
      "execution_count": null,
      "outputs": []
    },
    {
      "cell_type": "code",
      "metadata": {
        "id": "-lpiUZikQhWH"
      },
      "source": [
        "validar(1)"
      ],
      "execution_count": null,
      "outputs": []
    },
    {
      "cell_type": "markdown",
      "metadata": {
        "id": "9pWnRIliQhWP"
      },
      "source": [
        "## Prática 2\n",
        "Escreva um trecho de código que declare as variáveis **c** e **d** com os valores 1.2 e 3.4, respectivamente, e atribua a soma à variável **e**."
      ]
    },
    {
      "cell_type": "code",
      "metadata": {
        "id": "_AjYoA3KQhWR"
      },
      "source": [
        ""
      ],
      "execution_count": null,
      "outputs": []
    },
    {
      "cell_type": "code",
      "metadata": {
        "id": "i8JjgD4xQhWZ"
      },
      "source": [
        "validar(2)"
      ],
      "execution_count": null,
      "outputs": []
    },
    {
      "cell_type": "markdown",
      "metadata": {
        "id": "j1nWk0dwQhWh"
      },
      "source": [
        "## Prática 3\n",
        "Escreva um trecho de código que declare as variáveis **x** com True e **y** com False. Então atribua a **z** o resultado da operação lógica **x or y**."
      ]
    },
    {
      "cell_type": "code",
      "metadata": {
        "id": "uPv8t18-QhWk"
      },
      "source": [
        ""
      ],
      "execution_count": null,
      "outputs": []
    },
    {
      "cell_type": "code",
      "metadata": {
        "id": "XzJS1dM9QhWq"
      },
      "source": [
        "validar(3)"
      ],
      "execution_count": null,
      "outputs": []
    },
    {
      "cell_type": "markdown",
      "metadata": {
        "id": "L3Wo_gvCQhWv"
      },
      "source": [
        "## Prática 4\n",
        "Escreva um trecho de código que inicialize a variável **c** com 1. Então incremente três vezes essa variável."
      ]
    },
    {
      "cell_type": "code",
      "metadata": {
        "id": "tXq-tLemQhWx"
      },
      "source": [
        ""
      ],
      "execution_count": null,
      "outputs": []
    },
    {
      "cell_type": "code",
      "metadata": {
        "id": "UvWTrUuGQhW4"
      },
      "source": [
        "validar(4)"
      ],
      "execution_count": null,
      "outputs": []
    },
    {
      "cell_type": "markdown",
      "metadata": {
        "id": "ahLYEpjZQhW_"
      },
      "source": [
        "## Prática 5\n",
        "Escreva um trecho de código implementando as operações\n",
        "**quociente = dividendo // divisor** e\n",
        "**resto = dividendo % divisor**, definindo como 25 o valor do dividendo e 4 o valor do divisor."
      ]
    },
    {
      "cell_type": "code",
      "metadata": {
        "id": "p8MO-Y8HQhXA"
      },
      "source": [
        ""
      ],
      "execution_count": null,
      "outputs": []
    },
    {
      "cell_type": "code",
      "metadata": {
        "id": "t46KlnZuQhXG"
      },
      "source": [
        "validar(5)"
      ],
      "execution_count": null,
      "outputs": []
    },
    {
      "cell_type": "markdown",
      "metadata": {
        "id": "H_lCUPYGxxdb"
      },
      "source": [
        "# Comandos de saída"
      ]
    },
    {
      "cell_type": "markdown",
      "metadata": {
        "id": "KfwoGIw2QhXO"
      },
      "source": [
        "## Prática 6\n",
        "Escreva um trecho de código que define a variável **n** com o valor 2 e imprime o cubo de **n**."
      ]
    },
    {
      "cell_type": "code",
      "metadata": {
        "id": "Q1zFJrKoQhXP"
      },
      "source": [
        ""
      ],
      "execution_count": null,
      "outputs": []
    },
    {
      "cell_type": "code",
      "metadata": {
        "id": "TL4wNK6MQhXV"
      },
      "source": [
        "validar(6)"
      ],
      "execution_count": null,
      "outputs": []
    },
    {
      "cell_type": "markdown",
      "metadata": {
        "id": "KgCBAclYVLjm"
      },
      "source": [
        "## Prática 7\n",
        "Escreva um trecho de código que define a variável **m** com 16 e então imprime (em uma mesma linha) a mensagem **O valor da variável m é**, seguido pelo valor de **m**."
      ]
    },
    {
      "cell_type": "code",
      "metadata": {
        "id": "BKysIQddVLjs"
      },
      "source": [
        ""
      ],
      "execution_count": null,
      "outputs": []
    },
    {
      "cell_type": "code",
      "metadata": {
        "id": "0YMMPya_VLj9"
      },
      "source": [
        "validar(7)"
      ],
      "execution_count": null,
      "outputs": []
    },
    {
      "cell_type": "markdown",
      "metadata": {
        "id": "QyfeRxAzVMoA"
      },
      "source": [
        "## Prática 8\n",
        "Escreva um trecho de código que define a variável **valor** como 250.0, e então calcula e imprime 40% desse valor na tela."
      ]
    },
    {
      "cell_type": "code",
      "metadata": {
        "id": "GYIR7SZ4VMoC"
      },
      "source": [
        ""
      ],
      "execution_count": null,
      "outputs": []
    },
    {
      "cell_type": "code",
      "metadata": {
        "id": "342SY256VMoK"
      },
      "source": [
        "validar(8)"
      ],
      "execution_count": null,
      "outputs": []
    },
    {
      "cell_type": "markdown",
      "metadata": {
        "id": "80Pcdw4oV-O6"
      },
      "source": [
        "## Prática 9\n",
        "Escreva um trecho de código que atribua 12 a **idade**. Faça um teste para verificar se **idade** está dentro do intervalo [0,18] e então imprima o resultado lógico do teste.\n"
      ]
    },
    {
      "cell_type": "code",
      "metadata": {
        "id": "ROdXECfQV_FN"
      },
      "source": [
        ""
      ],
      "execution_count": null,
      "outputs": []
    },
    {
      "cell_type": "code",
      "metadata": {
        "id": "WiZwS0ztV_FT"
      },
      "source": [
        "validar(9)"
      ],
      "execution_count": null,
      "outputs": []
    },
    {
      "cell_type": "markdown",
      "metadata": {
        "id": "GkSguw6zV-_u"
      },
      "source": [
        "## Prática 10\n",
        "Use o operador lógico adequado para testar se pelo menos uma das expressões **5 == 10** e **4 <= 4** é verdadeira. Imprima o resultado desse teste."
      ]
    },
    {
      "cell_type": "code",
      "metadata": {
        "id": "chLXVFlYV_AG"
      },
      "source": [
        ""
      ],
      "execution_count": null,
      "outputs": []
    },
    {
      "cell_type": "code",
      "metadata": {
        "id": "aizuDbb4V_AM"
      },
      "source": [
        "validar(10)"
      ],
      "execution_count": null,
      "outputs": []
    },
    {
      "cell_type": "markdown",
      "metadata": {
        "id": "MEb6FN-LV-58"
      },
      "source": [
        "## Prática 11\n",
        "Escreva um trecho de código que define as variáveis **a** e **b** como 45 e 86, respectivamente. Use a função **max()** para encontrar o maior valor entre elas, imprimindo o resultado."
      ]
    },
    {
      "cell_type": "code",
      "metadata": {
        "id": "oTZAIW-dV-5-"
      },
      "source": [
        ""
      ],
      "execution_count": null,
      "outputs": []
    },
    {
      "cell_type": "code",
      "metadata": {
        "id": "fLJJkYnHV-6D"
      },
      "source": [
        "validar(11)"
      ],
      "execution_count": null,
      "outputs": []
    },
    {
      "cell_type": "markdown",
      "metadata": {
        "id": "RO2lEnx0Y9Mw"
      },
      "source": [
        "## Prática 12\n",
        "Escreva um trecho de código que usa duas vezes a função **min()** para encontrar e imprimir o menor entre os valores 27, 13 e 64."
      ]
    },
    {
      "cell_type": "code",
      "metadata": {
        "id": "oFUhGuT7V-2F"
      },
      "source": [
        ""
      ],
      "execution_count": null,
      "outputs": []
    },
    {
      "cell_type": "code",
      "metadata": {
        "id": "vBhnKBZcV-2L"
      },
      "source": [
        "validar(12)"
      ],
      "execution_count": null,
      "outputs": []
    },
    {
      "cell_type": "markdown",
      "metadata": {
        "id": "B5u2q_QlV-0M"
      },
      "source": [
        "## Prática 13\n",
        "Escreva um trecho de código que calcule e imprima a raiz quadrada de 14.44, usando a função **pow()**.\n"
      ]
    },
    {
      "cell_type": "code",
      "metadata": {
        "id": "5J1Kqp_iV-0N"
      },
      "source": [
        ""
      ],
      "execution_count": null,
      "outputs": []
    },
    {
      "cell_type": "code",
      "metadata": {
        "id": "zoaZoITvV-0W"
      },
      "source": [
        "validar(13)"
      ],
      "execution_count": null,
      "outputs": []
    },
    {
      "cell_type": "markdown",
      "metadata": {
        "id": "5bMIbnh2V-t8"
      },
      "source": [
        "## Prática 14\n",
        "Escreva um trecho de código que defina **valor** como 100 e **aumento** como 15. Calcule e imprima o valor total ao se aplicar o aumento percentual sobre o valor.\n"
      ]
    },
    {
      "cell_type": "code",
      "metadata": {
        "id": "HGBjsBi0V-t9"
      },
      "source": [
        ""
      ],
      "execution_count": null,
      "outputs": []
    },
    {
      "cell_type": "code",
      "metadata": {
        "id": "ZVmCWzjmV-uH"
      },
      "source": [
        "validar(14)"
      ],
      "execution_count": null,
      "outputs": []
    },
    {
      "cell_type": "markdown",
      "metadata": {
        "id": "3eojGRIRV-oq"
      },
      "source": [
        "## Prática 15\n",
        "Escreva um trecho de código que calcule e imprima a área de um círculo de raio **r = 4**. Use uma variável auxiliar **pi = 3.14159**. A fórmula da área é $A = \\pi r^2$."
      ]
    },
    {
      "cell_type": "code",
      "metadata": {
        "id": "HdJRowt8V-os"
      },
      "source": [
        ""
      ],
      "execution_count": null,
      "outputs": []
    },
    {
      "cell_type": "code",
      "metadata": {
        "id": "aJd7LMVIV-oy"
      },
      "source": [
        "validar(15)"
      ],
      "execution_count": null,
      "outputs": []
    },
    {
      "cell_type": "markdown",
      "metadata": {
        "id": "9ZHvqkq638ks"
      },
      "source": [
        "# Exercícios"
      ]
    },
    {
      "cell_type": "markdown",
      "metadata": {
        "id": "NBwYsRYfb8Ny"
      },
      "source": [
        "## Exercício 16\n",
        "Defina os valores **a**, **b** e **c** como 15, 6 e 27, respectivamente. Então calcule e imprima a média aritmética deles."
      ]
    },
    {
      "cell_type": "code",
      "metadata": {
        "id": "w9iGThEDV-lM"
      },
      "source": [
        ""
      ],
      "execution_count": null,
      "outputs": []
    },
    {
      "cell_type": "code",
      "metadata": {
        "id": "2vzqkenbV-lU"
      },
      "source": [
        "validar(16)"
      ],
      "execution_count": null,
      "outputs": []
    },
    {
      "cell_type": "markdown",
      "metadata": {
        "id": "15h8guiO8SjC"
      },
      "source": [
        "## Exercício 17\n",
        "Sejam o número **n** definido como 42. Imprima em uma linha o seu antecessor, e na linha de baixo o seu sucessor."
      ]
    },
    {
      "cell_type": "code",
      "metadata": {
        "id": "jDwkjxsW8TIr"
      },
      "source": [
        ""
      ],
      "execution_count": null,
      "outputs": []
    },
    {
      "cell_type": "code",
      "metadata": {
        "id": "CIpMJWJs8Tkb"
      },
      "source": [
        "validar(17)"
      ],
      "execution_count": null,
      "outputs": []
    },
    {
      "cell_type": "markdown",
      "metadata": {
        "id": "pXkqWtELcXYS"
      },
      "source": [
        "## Exercício 18\n",
        "Sejam 333 produtos de mesmo tamanho. Em uma caixa cabem exatamente 12 unidades. Calcule e imprima o número inteiro de caixas que podem ser preenchidas, e na linha de baixo, o número de produtos que sobraram."
      ]
    },
    {
      "cell_type": "code",
      "metadata": {
        "id": "hLJzVcKjV-gf"
      },
      "source": [
        ""
      ],
      "execution_count": null,
      "outputs": []
    },
    {
      "cell_type": "code",
      "metadata": {
        "id": "5p_qyf7_V-gp"
      },
      "source": [
        "validar(18)"
      ],
      "execution_count": null,
      "outputs": []
    },
    {
      "cell_type": "markdown",
      "metadata": {
        "id": "nqHUpJ27dHWW"
      },
      "source": [
        "## Exercício 19\n",
        "Defina um certo horário como 10:27:35. Calcule e imprima na tela quantos segundos transcorreram desde o início do dia.\n"
      ]
    },
    {
      "cell_type": "code",
      "metadata": {
        "id": "JLHhnxEUV-PC"
      },
      "source": [
        ""
      ],
      "execution_count": null,
      "outputs": []
    },
    {
      "cell_type": "code",
      "metadata": {
        "id": "Eu7NE5UnV-PR"
      },
      "source": [
        "validar(19)"
      ],
      "execution_count": null,
      "outputs": []
    },
    {
      "cell_type": "markdown",
      "metadata": {
        "id": "IxXJyb0Td7TR"
      },
      "source": [
        "## Exercício 20\n",
        "Uma fábrica de camisetas produz os tamanhos pequeno, médio e grande, cada uma sendo vendida respectivamente por 10, 12 e 15 reais. Defina as variáveis **p**, **m** e **g** com as quantidades 200, 175 e 140 para um pedido, respectivamente. Calcule e imprima o valor total deste pedido."
      ]
    },
    {
      "cell_type": "code",
      "metadata": {
        "id": "QYiTlCVyd7Tb"
      },
      "source": [
        ""
      ],
      "execution_count": null,
      "outputs": []
    },
    {
      "cell_type": "code",
      "metadata": {
        "id": "-tzlOH7vd7Tp"
      },
      "source": [
        "validar(20)"
      ],
      "execution_count": null,
      "outputs": []
    }
  ]
}