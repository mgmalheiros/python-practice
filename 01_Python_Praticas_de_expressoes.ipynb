{
  "nbformat": 4,
  "nbformat_minor": 0,
  "metadata": {
    "colab": {
      "name": "Python - Práticas de expressões",
      "provenance": [],
      "collapsed_sections": [
        "r0WpWpygRnTv"
      ]
    },
    "kernelspec": {
      "display_name": "Python 3",
      "language": "python",
      "name": "python3"
    },
    "language_info": {
      "codemirror_mode": {
        "name": "ipython",
        "version": 3
      },
      "file_extension": ".py",
      "mimetype": "text/x-python",
      "name": "python",
      "nbconvert_exporter": "python",
      "pygments_lexer": "ipython3",
      "version": "3.7.9"
    }
  },
  "cells": [
    {
      "cell_type": "markdown",
      "metadata": {
        "id": "r0WpWpygRnTv"
      },
      "source": [
        "# Instruções\n",
        "\n",
        "- IMPORTANTE: primeiro clique no círculo preto com a seta branca abaixo.\n",
        "\n",
        "- Faça cada um das atividades em sequência, alterando o trecho de código fornecido em cada célula para obter o resultado esperado.\n",
        "\n",
        "- Depois de alterar o trecho de código, use **SHIFT + ENTER** para executar este trecho. O resultado é exibido logo abaixo.\n",
        "\n",
        "- Então valide o resultado com **SHIFT + ENTER** novamente na célula que contém o comando **validar()**. Não remova ou altere esta linha.\n",
        "\n",
        "- Note que você pode desfazer a alteração em qualquer célula usando **CONTROL + Z**."
      ]
    },
    {
      "cell_type": "code",
      "metadata": {
        "id": "GoSb_6yyujWG"
      },
      "source": [
        "# Não se preocupe com este código. E nem faça alterações, por favor.\n",
        "\n",
        "import builtins\n",
        "import io\n",
        "\n",
        "from IPython.core.display import display, HTML, Markdown\n",
        "\n",
        "# practice core v0\n",
        "\n",
        "def sprint(*args, end='', **kwargs):\n",
        "    sio = io.StringIO()\n",
        "    builtins.print(*args, **kwargs, end=end, file=sio)\n",
        "    return sio.getvalue()\n",
        "\n",
        "PRINT = []\n",
        "\n",
        "def print(*args, **kwargs):\n",
        "    s = sprint(*args, **kwargs)\n",
        "    PRINT.append(s)\n",
        "    return builtins.print(s)\n",
        "\n",
        "def correct(msg):\n",
        "    display(HTML('<p style=\"background-color: LawnGreen; padding: 8px 8px 8px 8px;\"><b>{}</b></p>'.format(msg)))\n",
        "\n",
        "def incorrect(msg):\n",
        "    display(HTML('<p style=\"background-color: Tomato; padding: 8px 8px 8px 8px;\">{}</p>'.format(msg)))\n",
        "\n",
        "def hint(msg):\n",
        "    display(HTML('<p style=\"background-color: LightBlue; padding: 8px 8px 8px 8px;\">{}</p>'.format(msg)))\n",
        "\n",
        "def check_out(value):\n",
        "    if repr(_) == repr(value):\n",
        "        correct('Correto!')\n",
        "        return\n",
        "\n",
        "    incorrect('Resultado incorreto, tente novamente.')\n",
        "\n",
        "    if _ == '':\n",
        "        hint('Não houve resultado, verifique se você executou seu código com SHIFT+ENTER.')\n",
        "        return\n",
        "    \n",
        "    if type(_) != type(value):\n",
        "        if type(value) == int:\n",
        "            hint('Dica: o resultado precisa ser do tipo inteiro.')\n",
        "        elif type(value) == float:\n",
        "            hint('Dica: o resultado precisa ser do tipo real.')\n",
        "        elif type(value) == bool:\n",
        "            hint('Dica: o resultado precisa ser do tipo lógico.')\n",
        "        elif type(value) == str:\n",
        "            hint('Dica: o resultado precisa ser do tipo string.')\n",
        "\n",
        "def validar(n=None):\n",
        "    if n == None:\n",
        "        builtins.print('É preciso indicar o número do exercício. Volte o comando \"validar\" como estava antes!')\n",
        "        return\n",
        "        \n",
        "    if   n ==  1: check_out(10)\n",
        "    elif n ==  2: check_out(12)\n",
        "    elif n ==  3: check_out(90)\n",
        "    elif n ==  4: check_out(88)\n",
        "    elif n ==  5: check_out(34.0)\n",
        "    elif n ==  6: check_out(22.5)\n",
        "    elif n ==  7: check_out(15)\n",
        "    elif n ==  8: check_out(3)\n",
        "    elif n ==  9: check_out(5)\n",
        "    elif n == 10: check_out(6.5)\n",
        "    elif n == 11: check_out(16)\n",
        "    elif n == 12: check_out(True)\n",
        "    elif n == 13: check_out(True)\n",
        "    elif n == 14: check_out(False)\n",
        "    elif n == 15: check_out(True)\n",
        "    elif n == 16: check_out(True)\n",
        "    elif n == 17: check_out(True)\n",
        "    elif n == 18: check_out(True)\n",
        "    elif n == 19: check_out(True)\n",
        "    elif n == 20: check_out(False)\n",
        "    elif n == 21: check_out(True)\n",
        "    elif n == 22: check_out(True)\n",
        "    elif n == 23: check_out(True)\n",
        "    elif n == 24: check_out(False)\n",
        "    elif n == 25: check_out(True)\n",
        "    elif n == 26: check_out(True)\n",
        "    elif n == 27: check_out(False)\n",
        "    elif n == 28: check_out(True)\n",
        "    elif n == 29: check_out(False)\n",
        "    elif n == 30: check_out(True)"
      ],
      "execution_count": null,
      "outputs": []
    },
    {
      "cell_type": "markdown",
      "metadata": {
        "id": "2nj3eRk6Q1_n"
      },
      "source": [
        "# Expressões aritméticas"
      ]
    },
    {
      "cell_type": "markdown",
      "metadata": {
        "id": "oglGzfYvQhV6"
      },
      "source": [
        "## Prática 1\n",
        "Escreva uma expressão para somar 2 mais 3 mais 5."
      ]
    },
    {
      "cell_type": "code",
      "metadata": {
        "id": "0n0wf32_QhV9"
      },
      "source": [
        ""
      ],
      "execution_count": null,
      "outputs": []
    },
    {
      "cell_type": "code",
      "metadata": {
        "id": "-lpiUZikQhWH"
      },
      "source": [
        "validar(1)"
      ],
      "execution_count": null,
      "outputs": []
    },
    {
      "cell_type": "markdown",
      "metadata": {
        "id": "9pWnRIliQhWP"
      },
      "source": [
        "## Prática 2\n",
        "Escreva uma expressão que pegue o valor 20 e dele subtraia 8."
      ]
    },
    {
      "cell_type": "code",
      "metadata": {
        "id": "_AjYoA3KQhWR"
      },
      "source": [
        ""
      ],
      "execution_count": null,
      "outputs": []
    },
    {
      "cell_type": "code",
      "metadata": {
        "id": "i8JjgD4xQhWZ"
      },
      "source": [
        "validar(2)"
      ],
      "execution_count": null,
      "outputs": []
    },
    {
      "cell_type": "markdown",
      "metadata": {
        "id": "j1nWk0dwQhWh"
      },
      "source": [
        "## Prática 3\n",
        "Escreva uma expressão multiplicando 15 por 6."
      ]
    },
    {
      "cell_type": "code",
      "metadata": {
        "id": "uPv8t18-QhWk"
      },
      "source": [
        ""
      ],
      "execution_count": null,
      "outputs": []
    },
    {
      "cell_type": "code",
      "metadata": {
        "id": "XzJS1dM9QhWq"
      },
      "source": [
        "validar(3)"
      ],
      "execution_count": null,
      "outputs": []
    },
    {
      "cell_type": "markdown",
      "metadata": {
        "id": "L3Wo_gvCQhWv"
      },
      "source": [
        "## Prática 4\n",
        "Escreva uma expressão que adicione 4 a 7, e então multiplique o resultado desta soma por 8"
      ]
    },
    {
      "cell_type": "code",
      "metadata": {
        "id": "tXq-tLemQhWx"
      },
      "source": [
        ""
      ],
      "execution_count": null,
      "outputs": []
    },
    {
      "cell_type": "code",
      "metadata": {
        "id": "UvWTrUuGQhW4"
      },
      "source": [
        "validar(4)"
      ],
      "execution_count": null,
      "outputs": []
    },
    {
      "cell_type": "markdown",
      "metadata": {
        "id": "ahLYEpjZQhW_"
      },
      "source": [
        "## Prática 5\n",
        "Escreva a expressão 32 / 8 - 47 + 9 e então inverta o sinal do resultado."
      ]
    },
    {
      "cell_type": "code",
      "metadata": {
        "id": "p8MO-Y8HQhXA"
      },
      "source": [
        ""
      ],
      "execution_count": null,
      "outputs": []
    },
    {
      "cell_type": "code",
      "metadata": {
        "id": "t46KlnZuQhXG"
      },
      "source": [
        "validar(5)"
      ],
      "execution_count": null,
      "outputs": []
    },
    {
      "cell_type": "markdown",
      "metadata": {
        "id": "KfwoGIw2QhXO"
      },
      "source": [
        "## Prática 6\n",
        "Escreva a expressão que calcula o valor da divisão de 45 por 2."
      ]
    },
    {
      "cell_type": "code",
      "metadata": {
        "id": "Q1zFJrKoQhXP"
      },
      "source": [
        ""
      ],
      "execution_count": null,
      "outputs": []
    },
    {
      "cell_type": "code",
      "metadata": {
        "id": "TL4wNK6MQhXV"
      },
      "source": [
        "validar(6)"
      ],
      "execution_count": null,
      "outputs": []
    },
    {
      "cell_type": "markdown",
      "metadata": {
        "id": "KgCBAclYVLjm"
      },
      "source": [
        "## Prática 7\n",
        "Escreva a expressão que calcula a divisão inteira (quociente) de 31 por 2."
      ]
    },
    {
      "cell_type": "code",
      "metadata": {
        "id": "BKysIQddVLjs"
      },
      "source": [
        ""
      ],
      "execution_count": null,
      "outputs": []
    },
    {
      "cell_type": "code",
      "metadata": {
        "id": "0YMMPya_VLj9"
      },
      "source": [
        "validar(7)"
      ],
      "execution_count": null,
      "outputs": []
    },
    {
      "cell_type": "markdown",
      "metadata": {
        "id": "QyfeRxAzVMoA"
      },
      "source": [
        "## Prática 8\n",
        "Escreva a expressão que calcula o módulo (resto da divisão) de 13 por 10."
      ]
    },
    {
      "cell_type": "code",
      "metadata": {
        "id": "GYIR7SZ4VMoC"
      },
      "source": [
        ""
      ],
      "execution_count": null,
      "outputs": []
    },
    {
      "cell_type": "code",
      "metadata": {
        "id": "342SY256VMoK"
      },
      "source": [
        "validar(8)"
      ],
      "execution_count": null,
      "outputs": []
    },
    {
      "cell_type": "markdown",
      "metadata": {
        "id": "80Pcdw4oV-O6"
      },
      "source": [
        "## Prática 9\n",
        "Determine o operador de divisão que está faltando para obter o resultado inteiro **5**.\n"
      ]
    },
    {
      "cell_type": "code",
      "metadata": {
        "id": "ROdXECfQV_FN"
      },
      "source": [
        "25 ??? 5"
      ],
      "execution_count": null,
      "outputs": []
    },
    {
      "cell_type": "code",
      "metadata": {
        "id": "WiZwS0ztV_FT"
      },
      "source": [
        "validar(9)"
      ],
      "execution_count": null,
      "outputs": []
    },
    {
      "cell_type": "markdown",
      "metadata": {
        "id": "GkSguw6zV-_u"
      },
      "source": [
        "## Prática 10\n",
        "Conserte o operador da expressão para obter o resultado real **6.5**."
      ]
    },
    {
      "cell_type": "code",
      "metadata": {
        "id": "chLXVFlYV_AG"
      },
      "source": [
        "13 // 2"
      ],
      "execution_count": null,
      "outputs": []
    },
    {
      "cell_type": "code",
      "metadata": {
        "id": "aizuDbb4V_AM"
      },
      "source": [
        "validar(10)"
      ],
      "execution_count": null,
      "outputs": []
    },
    {
      "cell_type": "markdown",
      "metadata": {
        "id": "MEb6FN-LV-58"
      },
      "source": [
        "## Prática 11\n",
        "Conserte o operador da expressão para obter o resultado inteiro **16**."
      ]
    },
    {
      "cell_type": "code",
      "metadata": {
        "id": "oTZAIW-dV-5-"
      },
      "source": [
        "50 / 3"
      ],
      "execution_count": null,
      "outputs": []
    },
    {
      "cell_type": "code",
      "metadata": {
        "id": "fLJJkYnHV-6D"
      },
      "source": [
        "validar(11)"
      ],
      "execution_count": null,
      "outputs": []
    },
    {
      "cell_type": "markdown",
      "metadata": {
        "id": "nUkKGi6-ZG9C"
      },
      "source": [
        "# Operadores de comparação"
      ]
    },
    {
      "cell_type": "markdown",
      "metadata": {
        "id": "RO2lEnx0Y9Mw"
      },
      "source": [
        "### Prática 12\n",
        "Altere o operador da expressão para obter o resultado **True**.\n"
      ]
    },
    {
      "cell_type": "code",
      "metadata": {
        "id": "oFUhGuT7V-2F"
      },
      "source": [
        "19 - 8 != 11"
      ],
      "execution_count": null,
      "outputs": []
    },
    {
      "cell_type": "code",
      "metadata": {
        "id": "vBhnKBZcV-2L"
      },
      "source": [
        "validar(12)"
      ],
      "execution_count": null,
      "outputs": []
    },
    {
      "cell_type": "markdown",
      "metadata": {
        "id": "B5u2q_QlV-0M"
      },
      "source": [
        "## Prática 13\n",
        "Busque e corrija o erro de sintaxe na expressão para obter o resultado **True**.\n"
      ]
    },
    {
      "cell_type": "code",
      "metadata": {
        "id": "5J1Kqp_iV-0N"
      },
      "source": [
        "47 - 12 = 35"
      ],
      "execution_count": null,
      "outputs": []
    },
    {
      "cell_type": "code",
      "metadata": {
        "id": "zoaZoITvV-0W"
      },
      "source": [
        "validar(13)"
      ],
      "execution_count": null,
      "outputs": []
    },
    {
      "cell_type": "markdown",
      "metadata": {
        "id": "5bMIbnh2V-t8"
      },
      "source": [
        "## Prática 14\n",
        "Busque e corrija o erro de sintaxe na expressão para obter o resultado **False**.\n"
      ]
    },
    {
      "cell_type": "code",
      "metadata": {
        "id": "HGBjsBi0V-t9"
      },
      "source": [
        "100 ! = 25 * 4"
      ],
      "execution_count": null,
      "outputs": []
    },
    {
      "cell_type": "code",
      "metadata": {
        "id": "ZVmCWzjmV-uH"
      },
      "source": [
        "validar(14)"
      ],
      "execution_count": null,
      "outputs": []
    },
    {
      "cell_type": "markdown",
      "metadata": {
        "id": "SnRT1YQNV-rI"
      },
      "source": [
        "## Prática 15\n",
        "Conserte o operador da expressão para testar se o número **25** é múltiplo de **5**.\n"
      ]
    },
    {
      "cell_type": "code",
      "metadata": {
        "id": "mmzpkELfV-rK"
      },
      "source": [
        "25 % 5 != 0"
      ],
      "execution_count": null,
      "outputs": []
    },
    {
      "cell_type": "code",
      "metadata": {
        "id": "mxhVP95sV-rR"
      },
      "source": [
        "validar(15)"
      ],
      "execution_count": null,
      "outputs": []
    },
    {
      "cell_type": "markdown",
      "metadata": {
        "id": "3eojGRIRV-oq"
      },
      "source": [
        "## Prática 16\n",
        "Determine a parte que está faltando para testar se um número é múltiplo de **3**."
      ]
    },
    {
      "cell_type": "code",
      "metadata": {
        "id": "HdJRowt8V-os"
      },
      "source": [
        "39 % ??? == 0"
      ],
      "execution_count": null,
      "outputs": []
    },
    {
      "cell_type": "code",
      "metadata": {
        "id": "aJd7LMVIV-oy"
      },
      "source": [
        "validar(16)"
      ],
      "execution_count": null,
      "outputs": []
    },
    {
      "cell_type": "markdown",
      "metadata": {
        "id": "NBwYsRYfb8Ny"
      },
      "source": [
        "## Prática 17\n",
        "Escreva uma expressão que seja verdadeira caso o número **18** não seja multiplo de **4**."
      ]
    },
    {
      "cell_type": "code",
      "metadata": {
        "id": "w9iGThEDV-lM"
      },
      "source": [
        ""
      ],
      "execution_count": null,
      "outputs": []
    },
    {
      "cell_type": "code",
      "metadata": {
        "id": "2vzqkenbV-lU"
      },
      "source": [
        "validar(17)"
      ],
      "execution_count": null,
      "outputs": []
    },
    {
      "cell_type": "markdown",
      "metadata": {
        "id": "pXkqWtELcXYS"
      },
      "source": [
        "## Prática 18\n",
        "Busque e corrija o erro de sintaxe na expressão para que o resultado seja **True**.\n"
      ]
    },
    {
      "cell_type": "code",
      "metadata": {
        "id": "hLJzVcKjV-gf"
      },
      "source": [
        "67 > = 41"
      ],
      "execution_count": null,
      "outputs": []
    },
    {
      "cell_type": "code",
      "metadata": {
        "id": "5p_qyf7_V-gp"
      },
      "source": [
        "validar(18)"
      ],
      "execution_count": null,
      "outputs": []
    },
    {
      "cell_type": "markdown",
      "metadata": {
        "id": "nqHUpJ27dHWW"
      },
      "source": [
        "## Prática 19\n",
        "Conserte o operador da expressão para que o resultado seja **True**.\n"
      ]
    },
    {
      "cell_type": "code",
      "metadata": {
        "id": "JLHhnxEUV-PC"
      },
      "source": [
        "20 + 4 > 2 * 12"
      ],
      "execution_count": null,
      "outputs": []
    },
    {
      "cell_type": "code",
      "metadata": {
        "id": "Eu7NE5UnV-PR"
      },
      "source": [
        "validar(19)"
      ],
      "execution_count": null,
      "outputs": []
    },
    {
      "cell_type": "markdown",
      "metadata": {
        "id": "IxXJyb0Td7TR"
      },
      "source": [
        "## Prática 20\n",
        "Determine o operador que está faltando para obter o resultado **False**.\n",
        "\n"
      ]
    },
    {
      "cell_type": "code",
      "metadata": {
        "id": "QYiTlCVyd7Tb"
      },
      "source": [
        "2 * 2 * 2 ??? 2 * 2"
      ],
      "execution_count": null,
      "outputs": []
    },
    {
      "cell_type": "code",
      "metadata": {
        "id": "-tzlOH7vd7Tp"
      },
      "source": [
        "validar(20)"
      ],
      "execution_count": null,
      "outputs": []
    },
    {
      "cell_type": "markdown",
      "metadata": {
        "id": "xmAuI_x8jtxR"
      },
      "source": [
        "# Expressões lógicas"
      ]
    },
    {
      "cell_type": "markdown",
      "metadata": {
        "id": "Y4wKiIPXd75s"
      },
      "source": [
        "## Prática 21\n",
        "Altere o trecho de código colocando o operador **not**, para que a expressão confirme que **43** é **ímpar**.\n"
      ]
    },
    {
      "cell_type": "code",
      "metadata": {
        "id": "IJFpT6n5d75w"
      },
      "source": [
        "43 % 2 == 0"
      ],
      "execution_count": null,
      "outputs": []
    },
    {
      "cell_type": "code",
      "metadata": {
        "id": "rJclqBK7d753"
      },
      "source": [
        "validar(21)"
      ],
      "execution_count": null,
      "outputs": []
    },
    {
      "cell_type": "markdown",
      "metadata": {
        "id": "e3S24fPFd9Nt"
      },
      "source": [
        "## Prática 22\n",
        "Altere o trecho de código adicionando o operador **not** para que a expressão passe a significar que **3 é menor do que 6**.\n"
      ]
    },
    {
      "cell_type": "code",
      "metadata": {
        "id": "TLbygCBkd9Nv"
      },
      "source": [
        "3 >= 6"
      ],
      "execution_count": null,
      "outputs": []
    },
    {
      "cell_type": "code",
      "metadata": {
        "id": "QAQhsMFJd9N6"
      },
      "source": [
        "validar(22)"
      ],
      "execution_count": null,
      "outputs": []
    },
    {
      "cell_type": "markdown",
      "metadata": {
        "id": "LYuSg0ehd-OT"
      },
      "source": [
        "## Prática 23\n",
        "Altere os valores numéricos da expressão para que ela seja verdadeira.\n"
      ]
    },
    {
      "cell_type": "code",
      "metadata": {
        "id": "0KrL8rCSd-OZ"
      },
      "source": [
        "14 < 32 and 17 >= 25"
      ],
      "execution_count": null,
      "outputs": []
    },
    {
      "cell_type": "code",
      "metadata": {
        "id": "xfKTJ1P8d-Om"
      },
      "source": [
        "validar(23)"
      ],
      "execution_count": null,
      "outputs": []
    },
    {
      "cell_type": "markdown",
      "metadata": {
        "id": "fNgVhO4Hd-9M"
      },
      "source": [
        "## Prática 24\n",
        "Determine a parte que está faltando para obter o resultado **False**.\n",
        "\n"
      ]
    },
    {
      "cell_type": "code",
      "metadata": {
        "id": "gGug6LOSd-9P"
      },
      "source": [
        "True ??? 27 < 12"
      ],
      "execution_count": null,
      "outputs": []
    },
    {
      "cell_type": "code",
      "metadata": {
        "id": "2nflt3UBd-9W"
      },
      "source": [
        "validar(24)"
      ],
      "execution_count": null,
      "outputs": []
    },
    {
      "cell_type": "markdown",
      "metadata": {
        "id": "A9D8ZsuZd_7T"
      },
      "source": [
        "## Prática 25\n",
        "Conserte o erro de lógica obter o resultado **True** para **50** dentro do intervalo de **1** a **100**.\n"
      ]
    },
    {
      "cell_type": "code",
      "metadata": {
        "id": "61vOG0ynd_7W"
      },
      "source": [
        "1 >= 50 and 50 >= 100"
      ],
      "execution_count": null,
      "outputs": []
    },
    {
      "cell_type": "code",
      "metadata": {
        "id": "Qq_1cpP7d_7f"
      },
      "source": [
        "validar(25)"
      ],
      "execution_count": null,
      "outputs": []
    },
    {
      "cell_type": "markdown",
      "metadata": {
        "id": "H6Ia45JvqYA8"
      },
      "source": [
        "## Prática 26\n",
        "Determine as partes que estão faltando para obter o resultado **True**."
      ]
    },
    {
      "cell_type": "code",
      "metadata": {
        "id": "JWQLhDshqZFd"
      },
      "source": [
        "6 * 3 ??? 18 or 37 ??? 49"
      ],
      "execution_count": null,
      "outputs": []
    },
    {
      "cell_type": "code",
      "metadata": {
        "id": "-DsNsdR-qCYq"
      },
      "source": [
        "validar(26)"
      ],
      "execution_count": null,
      "outputs": []
    },
    {
      "cell_type": "markdown",
      "metadata": {
        "id": "JeQBk9sVrebR"
      },
      "source": [
        "## Prática 27\n",
        "Busque e corrija o erro, adicionando um valor lógico para obter o resultado **False**.\n"
      ]
    },
    {
      "cell_type": "code",
      "metadata": {
        "id": "mHIyELEZrXvH"
      },
      "source": [
        "or 18 / 2 == 1"
      ],
      "execution_count": null,
      "outputs": []
    },
    {
      "cell_type": "code",
      "metadata": {
        "id": "wOFA_Oz-szZ1"
      },
      "source": [
        "validar(27)"
      ],
      "execution_count": null,
      "outputs": []
    },
    {
      "cell_type": "markdown",
      "metadata": {
        "id": "jntmBskar8Hv"
      },
      "source": [
        "## Prática 28\n",
        "Determine o operador correto para obter o resultado **True**, uma vez que o valor 200 está fora do intervalo de 1 a 100.\n"
      ]
    },
    {
      "cell_type": "code",
      "metadata": {
        "id": "Kx6l7oqlr3oM"
      },
      "source": [
        "200 < 1 or 200 ??? 100"
      ],
      "execution_count": null,
      "outputs": []
    },
    {
      "cell_type": "code",
      "metadata": {
        "id": "iykJJ892se72"
      },
      "source": [
        "validar(28)"
      ],
      "execution_count": null,
      "outputs": []
    },
    {
      "cell_type": "markdown",
      "metadata": {
        "id": "rtvXtdTCtDfM"
      },
      "source": [
        "## Prática 29\n",
        "Determine os operadores de comparação que estão faltando para obter o resultado **False**.\n"
      ]
    },
    {
      "cell_type": "code",
      "metadata": {
        "id": "lSETLVFrs_Fg"
      },
      "source": [
        "(12 % 3 ??? 0) or (3 + 7 ??? 10)"
      ],
      "execution_count": null,
      "outputs": []
    },
    {
      "cell_type": "code",
      "metadata": {
        "id": "qwwIThkJtdWb"
      },
      "source": [
        "validar(29)"
      ],
      "execution_count": null,
      "outputs": []
    },
    {
      "cell_type": "markdown",
      "metadata": {
        "id": "Mhp24_CVtipx"
      },
      "source": [
        "## Prática 30\n",
        "Determine os operadores lóogicos que estão faltando para obter o resultado **True**.\n"
      ]
    },
    {
      "cell_type": "code",
      "metadata": {
        "id": "J3gjxOXRt2J2"
      },
      "source": [
        "(False ??? 25 >= 25) ??? (??? 2 + 2 != 4)"
      ],
      "execution_count": null,
      "outputs": []
    },
    {
      "cell_type": "code",
      "metadata": {
        "id": "Xe5Dc2sEtfZe"
      },
      "source": [
        "validar(30)"
      ],
      "execution_count": null,
      "outputs": []
    }
  ]
}