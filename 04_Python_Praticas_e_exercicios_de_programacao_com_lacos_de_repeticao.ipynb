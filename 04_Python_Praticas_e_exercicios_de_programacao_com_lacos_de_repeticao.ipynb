{
  "nbformat": 4,
  "nbformat_minor": 0,
  "metadata": {
    "colab": {
      "name": "Python - Práticas e exercícios de programação com laços de repetição",
      "provenance": [],
      "collapsed_sections": [
        "r0WpWpygRnTv"
      ]
    },
    "kernelspec": {
      "display_name": "Python 3",
      "language": "python",
      "name": "python3"
    },
    "language_info": {
      "codemirror_mode": {
        "name": "ipython",
        "version": 3
      },
      "file_extension": ".py",
      "mimetype": "text/x-python",
      "name": "python",
      "nbconvert_exporter": "python",
      "pygments_lexer": "ipython3",
      "version": "3.7.9"
    }
  },
  "cells": [
    {
      "cell_type": "markdown",
      "metadata": {
        "id": "r0WpWpygRnTv"
      },
      "source": [
        "# Instruções\n",
        "\n",
        "- IMPORTANTE: primeiro clique no círculo preto com a seta branca abaixo.\n",
        "\n",
        "- Faça as atividades em sequência, escrevendo ou alterando o trecho de código em cada célula para obter o resultado esperado.\n",
        "\n",
        "- Use **SHIFT + ENTER** para executar o código. O resultado será exibido logo abaixo.\n",
        "\n",
        "- Então valide o resultado com **SHIFT + ENTER** novamente, na célula que contém o comando **validar()**. Não remova ou altere esta linha.\n",
        "\n",
        "- Você pode desfazer a alteração em qualquer célula usando **CONTROL + Z**."
      ]
    },
    {
      "cell_type": "code",
      "metadata": {
        "id": "GoSb_6yyujWG"
      },
      "source": [
        "# Não se preocupe com este código. E nem faça alterações nele, por favor.\n",
        "\n",
        "import builtins\n",
        "import io\n",
        "\n",
        "from IPython.core.display import display, HTML\n",
        "\n",
        "# practice core v2.2\n",
        "\n",
        "_INPUT = []\n",
        "_PRINT = []\n",
        "\n",
        "def input(*args, **kwargs):\n",
        "    s = builtins.input(*args, **kwargs)\n",
        "    _INPUT.append(s)\n",
        "    return s\n",
        "\n",
        "def print(*args, **kwargs):\n",
        "    s = _sprint(*args, **kwargs)\n",
        "    _PRINT.append(s)\n",
        "    return builtins.print(s)\n",
        "\n",
        "def _sprint(*args, end='', **kwargs):\n",
        "    sio = io.StringIO()\n",
        "    builtins.print(*args, **kwargs, end=end, file=sio)\n",
        "    return sio.getvalue()\n",
        "\n",
        "def _correct(msg='Correto!'):\n",
        "    display(HTML('<p style=\"background-color: LawnGreen; padding: 8px 8px 8px 8px;\"><b>{}</b></p>'.format(msg)))\n",
        "\n",
        "def _incorrect(msg):\n",
        "    display(HTML('<p style=\"background-color: Tomato; padding: 8px 8px 8px 8px;\">{}</p>'.format(msg)))\n",
        "\n",
        "def _hint(msg):\n",
        "    display(HTML('<p style=\"background-color: LightBlue; padding: 8px 8px 8px 8px;\">{}</p>'.format(msg)))\n",
        "\n",
        "def _out(value): # expects a single value to be matched against the last cell result\n",
        "    if repr(_) == repr(value):\n",
        "        return 0\n",
        "\n",
        "    if _ == '':\n",
        "        _incorrect('Não houve resultado, verifique se você executou seu código com SHIFT+ENTER.')\n",
        "        return 1\n",
        "    \n",
        "    if type(_) != type(value):\n",
        "        if type(value) == int:\n",
        "            _hint('Dica: o resultado precisa ser do tipo inteiro.')\n",
        "        elif type(value) == float:\n",
        "            _hint('Dica: o resultado precisa ser do tipo real.')\n",
        "        elif type(value) == bool:\n",
        "            _hint('Dica: o resultado precisa ser do tipo lógico.')\n",
        "        elif type(value) == str:\n",
        "            _hint('Dica: o resultado precisa ser do tipo string.')\n",
        "        else:\n",
        "            _hint('Dica: o resultado precisa ser de outro tipo.')\n",
        "    _incorrect('Resultado incorreto, tente novamente.')\n",
        "    return 1\n",
        "\n",
        "def _src(terms): # expects a list of strings to be matched against the last cell executed\n",
        "    result = 0\n",
        "    for term in terms:\n",
        "        if term + ' ' not in _i:\n",
        "            _hint('Dica: verifique se você usou \"{}\" no seu código.'.format(term))\n",
        "            result = 1\n",
        "    return result\n",
        "\n",
        "def _inp(lines): # expects a list of strings to be matched against the read input\n",
        "    if repr(_INPUT) == repr(lines):\n",
        "        return 0\n",
        "\n",
        "    if len(_INPUT) == 0:\n",
        "        _incorrect('Não houve entrada, verifique se você usou o comando \"input()\" no seu código.')\n",
        "        return 1\n",
        "\n",
        "    if len(_INPUT) != len(lines):\n",
        "        if len(lines) == 1:\n",
        "            _hint('Dica: é esperada 1 entrada do usuário.')\n",
        "        else:\n",
        "            _hint('Dica: são esperadas {} entradas do usuário.'.format(len(lines)))\n",
        "    else:\n",
        "        _incorrect('Entrada com dados diferentes do que foi solicitado, tente novamente.')\n",
        "    return 1\n",
        "\n",
        "def _pri(lines): # expects a list of strings to be matched against the printed output\n",
        "    if repr(_PRINT) == repr(lines):\n",
        "        return 0\n",
        "\n",
        "    if len(_PRINT) == 0:\n",
        "        _incorrect('Não houve saída, verifique se você usou o comando \"print()\" em seu código.')\n",
        "        return 1\n",
        "\n",
        "    if len(_PRINT) != len(lines):\n",
        "        if len(lines) == 1:\n",
        "            _hint('Dica: é esperada 1 linha de saída.')\n",
        "        else:\n",
        "            _hint('Dica: são esperadas {} linhas de saída.'.format(len(lines)))\n",
        "    else:\n",
        "        _incorrect('Saída incorreta, tente novamente.')\n",
        "    return 1\n",
        "\n",
        "def _var(variables): # expects a dictionary of variable names and their respective values\n",
        "    result = 0\n",
        "    for name, value in variables.items():\n",
        "        if name not in globals():\n",
        "            _hint('Dica: a variável \"{}\" precisa ser declarada.'.format(name))\n",
        "            result = 1\n",
        "            continue\n",
        "\n",
        "        if repr(globals()[name]) == repr(value):\n",
        "            continue # OK by now\n",
        "\n",
        "        if type(globals()[name]) != type(value):\n",
        "            if type(value) == int:\n",
        "                _hint('Dica: a variável \"{}\" precisa ser do tipo inteiro.'.format(name))\n",
        "            elif type(value) == float:\n",
        "                _hint('Dica: a variável \"{}\" precisa ser do tipo real.'.format(name))\n",
        "            elif type(value) == bool:\n",
        "                _hint('Dica: a variável \"{}\" precisa ser do tipo lógico.'.format(name))\n",
        "            elif type(value) == str:\n",
        "                _hint('Dica: a variável \"{}\" precisa ser do tipo string.'.format(name))\n",
        "            else:\n",
        "                _hint('Dica: a variável \"{}\" precisa ser de outro tipo.'.format(name))\n",
        "        else:\n",
        "            _incorrect('Resultado incorreto para a variável \"{}\".'.format(name))\n",
        "        result = 1\n",
        "\n",
        "    return result\n",
        "\n",
        "def _typ(variables): # expects a dictionary of variable names and their respective types\n",
        "    result = 0\n",
        "    for name, typ in variables.items():\n",
        "        if name not in globals():\n",
        "            _hint('Dica: a variável \"{}\" precisa ser declarada.'.format(name))\n",
        "            result = 1\n",
        "            continue\n",
        "\n",
        "        if type(globals()[name]) == typ:\n",
        "            continue # OK by now\n",
        "\n",
        "        if typ == int:\n",
        "            _hint('Dica: a variável \"{}\" precisa ser do tipo inteiro.'.format(name))\n",
        "        elif typ == float:\n",
        "            _hint('Dica: a variável \"{}\" precisa ser do tipo real.'.format(name))\n",
        "        elif typ == bool:\n",
        "            _hint('Dica: a variável \"{}\" precisa ser do tipo lógico.'.format(name))\n",
        "        elif typ == str:\n",
        "            _hint('Dica: a variável \"{}\" precisa ser do tipo string.'.format(name))\n",
        "        else:\n",
        "            _hint('Dica: a variável \"{}\" precisa ser de outro tipo.'.format(name))\n",
        "        result = 1\n",
        "\n",
        "    return result\n",
        "\n",
        "def _clear():\n",
        "    global _INPUT, _PRINT\n",
        "    _INPUT = []\n",
        "    _PRINT = []\n",
        "    for name in set(globals()) - _GLOBALS:\n",
        "        if not name.startswith('_'):\n",
        "            #builtins.print('remove:', name)\n",
        "            globals().pop(name)\n",
        "\n",
        "def validar(n=None):\n",
        "    if n == None:\n",
        "        _incorrect('É preciso indicar o número da atividade. Volte o comando \"validar\" como estava antes!')\n",
        "    elif _test(n) == 0:\n",
        "        _correct()\n",
        "    _clear()\n",
        "\n",
        "_GLOBALS = set(globals())\n",
        "_GLOBALS.add('_GLOBALS')\n",
        "_GLOBALS.add('_test')"
      ],
      "execution_count": null,
      "outputs": []
    },
    {
      "cell_type": "code",
      "metadata": {
        "id": "2mi_jwCBZSVh"
      },
      "source": [
        "def _test(n):\n",
        "    if   n ==  1: return _typ({'c': int}) + _pri(['1', '2', '3'])\n",
        "    elif n ==  2: return _typ({'c': int}) + _pri(['1', '2', '3'])\n",
        "    elif n ==  3: return _typ({'c': int}) + _pri(['0', '1', '2'])\n",
        "    elif n ==  4: return _typ({'c': int}) + _pri(['5', '4', '3'])\n",
        "    elif n ==  5: return _typ({'c': int}) + _pri(['7', '8', '9'])\n",
        "    elif n ==  6: return _typ({'c': int}) + _pri(['c agora é 2', 'c agora é 4', 'c agora é 6', 'c agora é 8'])\n",
        "    elif n ==  7: return _typ({'c': int}) + _pri(['1 * 5 = 5', '2 * 5 = 10', '3 * 5 = 15', '4 * 5 = 20', '5 * 5 = 25'])\n",
        "    elif n ==  8: return _typ({'c': int}) + _pri(['1', '2', '3', '4', '3', '2', '1'])\n",
        "    elif n ==  9: return _typ({'a': int, 'c': int}) + _pri(['5050'])\n",
        "    elif n == 10: return _typ({'soma': int, 'c': int}) + _pri(['1683']) + _src(['if', '%'])\n",
        "    elif n == 11: return _typ({'soma': int, 'c': int}) + _pri(['1683'])\n",
        "    elif n == 12: return _typ({'quantos': int}) + _pri(['71'])\n",
        "    elif n == 13: return _typ({'n': int}) + _pri(['1', '2', '3', '4'])\n",
        "    elif n == 14: return _typ({'n': int}) + _pri(['-5', '-4', '-3', '-2', '-1'])\n",
        "    elif n == 15: return _var({'a': 21, 'b': 18}) + _inp(['21', '18']) + _pri(['21', '20', '19', '18'])\n",
        "    elif n == 16: return _typ({'v': int}) + _inp(['8', '3', '2', '0']) + _pri(['8', '2', '0'])\n",
        "    elif n == 17: return _typ({'v': int, 'produto': int}) + _inp(['8', '-4', '2', '0']) + _pri(['-64'])\n",
        "    elif n == 18: return _typ({'v1': int, 'v2': int}) + _inp(['3', '5', '7', '2', '1', '1']) + _pri(['v1 < v2', 'v1 > v2'])\n",
        "    elif n == 19: return _pri(['   1','   2','   4','   8','  16','  32','  64',' 128',' 256',' 512','1024'])\n",
        "    elif n == 20: return _inp(['240', '15', '27', '0']) + _pri(['36.00', '64.80', 'fim'])\n",
        "    elif n == 21: return _typ({'x': int, 'y': int, 'z': int}) + _inp(['42', '38']) + _pri(['39', '40', '41'])\n",
        "    elif n == 22: return _typ({'maior': int}) + _inp(['3', '5', '4', '7', '1']) + _pri(['7'])\n",
        "    elif n == 23: return _typ({'n': int}) + _inp(['50']) + _pri(['1275', '42925', '25.5'])\n",
        "    elif n == 24: return _typ({'m': int, 'n': int}) + _inp(['14', '21']) + _pri(['294'])\n",
        "    elif n == 25: return _inp(['9.3', '1.7', '4.1', '2.3', '5.6', '0']) + _pri(['1.7'])"
      ],
      "execution_count": null,
      "outputs": []
    },
    {
      "cell_type": "markdown",
      "metadata": {
        "id": "2nj3eRk6Q1_n"
      },
      "source": [
        "# Repetição contada"
      ]
    },
    {
      "cell_type": "markdown",
      "metadata": {
        "id": "oglGzfYvQhV6"
      },
      "source": [
        "## Prática 1\n",
        "Busque e corrija o erro de sintaxe no código para obter a seguinte saída:\n",
        "```\n",
        "1\n",
        "2\n",
        "3\n",
        "```"
      ]
    },
    {
      "cell_type": "code",
      "metadata": {
        "id": "0n0wf32_QhV9"
      },
      "source": [
        "c = 1\n",
        "while c <= 3\n",
        "    print(c)\n",
        "    c = c + 1"
      ],
      "execution_count": null,
      "outputs": []
    },
    {
      "cell_type": "code",
      "metadata": {
        "id": "-lpiUZikQhWH"
      },
      "source": [
        "validar(1)"
      ],
      "execution_count": null,
      "outputs": []
    },
    {
      "cell_type": "markdown",
      "metadata": {
        "id": "GiWgucBqQz7O"
      },
      "source": [
        "## Prática 2\n",
        "Busque e corrija o erro de sintaxe no código para obter a seguinte saída:\n",
        "```\n",
        "1\n",
        "2\n",
        "3\n",
        "```"
      ]
    },
    {
      "cell_type": "code",
      "metadata": {
        "id": "BxAeYwOSQ1Zu"
      },
      "source": [
        "while c <= 3:\n",
        "    print(c)\n",
        "    c = c + 1"
      ],
      "execution_count": null,
      "outputs": []
    },
    {
      "cell_type": "code",
      "metadata": {
        "id": "pVmNnTTAQ1yQ"
      },
      "source": [
        "validar(2)"
      ],
      "execution_count": null,
      "outputs": []
    },
    {
      "cell_type": "markdown",
      "metadata": {
        "id": "9pWnRIliQhWP"
      },
      "source": [
        "## Prática 3\n",
        "Conserte o erro de lógica no código para obter a seguinte saída:\n",
        "```\n",
        "0\n",
        "1\n",
        "2\n",
        "```"
      ]
    },
    {
      "cell_type": "code",
      "metadata": {
        "id": "_AjYoA3KQhWR"
      },
      "source": [
        "c = 0\n",
        "while c >= 2:\n",
        "    print(c)\n",
        "    c = c + 1"
      ],
      "execution_count": null,
      "outputs": []
    },
    {
      "cell_type": "code",
      "metadata": {
        "id": "i8JjgD4xQhWZ"
      },
      "source": [
        "validar(3)"
      ],
      "execution_count": null,
      "outputs": []
    },
    {
      "cell_type": "markdown",
      "metadata": {
        "id": "L3Wo_gvCQhWv"
      },
      "source": [
        "## Prática 4\n",
        "Conserte o erro de lógica no código para obter a seguinte saída:\n",
        "```\n",
        "5\n",
        "4\n",
        "3\n",
        "```"
      ]
    },
    {
      "cell_type": "code",
      "metadata": {
        "id": "tXq-tLemQhWx"
      },
      "source": [
        "c = 5\n",
        "while c <= 3:\n",
        "    print(c)\n",
        "    c = c - 1"
      ],
      "execution_count": null,
      "outputs": []
    },
    {
      "cell_type": "code",
      "metadata": {
        "id": "UvWTrUuGQhW4"
      },
      "source": [
        "validar(4)"
      ],
      "execution_count": null,
      "outputs": []
    },
    {
      "cell_type": "markdown",
      "metadata": {
        "id": "ahLYEpjZQhW_"
      },
      "source": [
        "## Prática 5\n",
        "Conserte o erro de lógica no código para obter a seguinte saída:\n",
        "```\n",
        "7\n",
        "8\n",
        "9\n",
        "```"
      ]
    },
    {
      "cell_type": "code",
      "metadata": {
        "id": "p8MO-Y8HQhXA"
      },
      "source": [
        "c = 7\n",
        "while c <= 9:\n",
        "    c = c + 1\n",
        "    print(c)"
      ],
      "execution_count": null,
      "outputs": []
    },
    {
      "cell_type": "code",
      "metadata": {
        "id": "t46KlnZuQhXG"
      },
      "source": [
        "validar(5)"
      ],
      "execution_count": null,
      "outputs": []
    },
    {
      "cell_type": "markdown",
      "metadata": {
        "id": "KfwoGIw2QhXO"
      },
      "source": [
        "## Prática 6\n",
        "Escreva um trecho de código que defina a variável **c** como contador. Use ela para gerar a seguinte saída:\n",
        "```\n",
        "c agora é 2\n",
        "c agora é 4\n",
        "c agora é 6\n",
        "c agora é 8\n",
        "```"
      ]
    },
    {
      "cell_type": "code",
      "metadata": {
        "id": "Q1zFJrKoQhXP"
      },
      "source": [
        ""
      ],
      "execution_count": null,
      "outputs": []
    },
    {
      "cell_type": "code",
      "metadata": {
        "id": "TL4wNK6MQhXV"
      },
      "source": [
        "validar(6)"
      ],
      "execution_count": null,
      "outputs": []
    },
    {
      "cell_type": "markdown",
      "metadata": {
        "id": "KgCBAclYVLjm"
      },
      "source": [
        "## Prática 7\n",
        "Escreva um trecho de código que defina a variável **c** como contador. Use ela para mostrar a seguinte saída:\n",
        "```\n",
        "1 * 5 = 5\n",
        "2 * 5 = 10\n",
        "3 * 5 = 15\n",
        "4 * 5 = 20\n",
        "5 * 5 = 25\n",
        "```"
      ]
    },
    {
      "cell_type": "code",
      "metadata": {
        "id": "BKysIQddVLjs"
      },
      "source": [
        ""
      ],
      "execution_count": null,
      "outputs": []
    },
    {
      "cell_type": "code",
      "metadata": {
        "id": "0YMMPya_VLj9"
      },
      "source": [
        "validar(7)"
      ],
      "execution_count": null,
      "outputs": []
    },
    {
      "cell_type": "markdown",
      "metadata": {
        "id": "QyfeRxAzVMoA"
      },
      "source": [
        "## Prática 8\n",
        "Escreva um trecho de código que defina a variável **c** como contador. Gere a seguinte saída, usando dois laços em sequência:\n",
        "```\n",
        "1\n",
        "2\n",
        "3\n",
        "4\n",
        "3\n",
        "2\n",
        "1\n",
        "```"
      ]
    },
    {
      "cell_type": "code",
      "metadata": {
        "id": "GYIR7SZ4VMoC"
      },
      "source": [
        ""
      ],
      "execution_count": null,
      "outputs": []
    },
    {
      "cell_type": "code",
      "metadata": {
        "id": "342SY256VMoK"
      },
      "source": [
        "validar(8)"
      ],
      "execution_count": null,
      "outputs": []
    },
    {
      "cell_type": "markdown",
      "metadata": {
        "id": "80Pcdw4oV-O6"
      },
      "source": [
        "## Prática 9\n",
        "Escreva um trecho de código que defina a variável **a** como acumulador e **c** como contador. Use ambas para calcular a soma dos inteiros de 0 a 100, que deve ser impressa apenas no final."
      ]
    },
    {
      "cell_type": "code",
      "metadata": {
        "id": "ROdXECfQV_FN"
      },
      "source": [
        ""
      ],
      "execution_count": null,
      "outputs": []
    },
    {
      "cell_type": "code",
      "metadata": {
        "id": "WiZwS0ztV_FT"
      },
      "source": [
        "validar(9)"
      ],
      "execution_count": null,
      "outputs": []
    },
    {
      "cell_type": "markdown",
      "metadata": {
        "id": "GkSguw6zV-_u"
      },
      "source": [
        "## Prática 10\n",
        "Escreva um trecho de código que defina a variável **soma** como acumulador e **c** como contador. Use ambas para calcular e imprimir ao final a soma dos múltiplos de 3 entre 3 e 99. Use um **if** e o operador **%** para testar se **c** é múltiplo de 3."
      ]
    },
    {
      "cell_type": "code",
      "metadata": {
        "id": "chLXVFlYV_AG"
      },
      "source": [
        ""
      ],
      "execution_count": null,
      "outputs": []
    },
    {
      "cell_type": "code",
      "metadata": {
        "id": "aizuDbb4V_AM"
      },
      "source": [
        "validar(10)"
      ],
      "execution_count": null,
      "outputs": []
    },
    {
      "cell_type": "markdown",
      "metadata": {
        "id": "MEb6FN-LV-58"
      },
      "source": [
        "## Prática 11\n",
        "Escreva um trecho de código que defina a variável **soma** como acumulador e **c** como contador. Use ambas para calcular e imprimir ao final a soma da sequência 3, 6, 9, 12, ... 99. Não use um **if**, mas sim um passo maior para **c**."
      ]
    },
    {
      "cell_type": "code",
      "metadata": {
        "id": "oTZAIW-dV-5-"
      },
      "source": [
        ""
      ],
      "execution_count": null,
      "outputs": []
    },
    {
      "cell_type": "code",
      "metadata": {
        "id": "fLJJkYnHV-6D"
      },
      "source": [
        "validar(11)"
      ],
      "execution_count": null,
      "outputs": []
    },
    {
      "cell_type": "markdown",
      "metadata": {
        "id": "RO2lEnx0Y9Mw"
      },
      "source": [
        "## Prática 12\n",
        "Escreva um trecho de código que conte na variável **quantos** quantos são os números múltiplos de 7 que também são pares no intervalo de 1 a 1000. Imprima esta quantidade ao final."
      ]
    },
    {
      "cell_type": "code",
      "metadata": {
        "id": "oFUhGuT7V-2F"
      },
      "source": [
        ""
      ],
      "execution_count": null,
      "outputs": []
    },
    {
      "cell_type": "code",
      "metadata": {
        "id": "vBhnKBZcV-2L"
      },
      "source": [
        "validar(12)"
      ],
      "execution_count": null,
      "outputs": []
    },
    {
      "cell_type": "markdown",
      "metadata": {
        "id": "B5u2q_QlV-0M"
      },
      "source": [
        "## Prática 13\n",
        "Escreva um trecho de código que solicite um número **n**. Apenas se **n** for maior do que zero, imprima os números de 1 a **n** (inclusive). Teste com a entrada 4.\n"
      ]
    },
    {
      "cell_type": "code",
      "metadata": {
        "id": "5J1Kqp_iV-0N"
      },
      "source": [
        ""
      ],
      "execution_count": null,
      "outputs": []
    },
    {
      "cell_type": "code",
      "metadata": {
        "id": "zoaZoITvV-0W"
      },
      "source": [
        "validar(13)"
      ],
      "execution_count": null,
      "outputs": []
    },
    {
      "cell_type": "markdown",
      "metadata": {
        "id": "5bMIbnh2V-t8"
      },
      "source": [
        "## Prática 14\n",
        "Escreva um trecho de código que solicite um número inteiro negativo **n**. Se o usuário digitar 0 ou maior, avise imprimindo uma mensagem de erro. Caso contrário, imprima os números entre **n** e -1 (inclusive). Teste com a entrada -5.\n"
      ]
    },
    {
      "cell_type": "code",
      "metadata": {
        "id": "HGBjsBi0V-t9"
      },
      "source": [
        ""
      ],
      "execution_count": null,
      "outputs": []
    },
    {
      "cell_type": "code",
      "metadata": {
        "id": "ZVmCWzjmV-uH"
      },
      "source": [
        "validar(14)"
      ],
      "execution_count": null,
      "outputs": []
    },
    {
      "cell_type": "markdown",
      "metadata": {
        "id": "3eojGRIRV-oq"
      },
      "source": [
        "## Prática 15\n",
        "Escreva um trecho de código que leia dois número inteiros **a** e **b**. Se **a** for menor ou igual a **b** imprima os valores do primeiro até o segundo (incluindo ambos) em ordem crescente. Caso contrário imprima os valores de **a** até **b** em ordem decrescente. Teste com 21 e 18, nesta ordem."
      ]
    },
    {
      "cell_type": "code",
      "metadata": {
        "id": "HdJRowt8V-os"
      },
      "source": [
        ""
      ],
      "execution_count": null,
      "outputs": []
    },
    {
      "cell_type": "code",
      "metadata": {
        "id": "aJd7LMVIV-oy"
      },
      "source": [
        "validar(15)"
      ],
      "execution_count": null,
      "outputs": []
    },
    {
      "cell_type": "markdown",
      "metadata": {
        "id": "gUkGYdtVjQSB"
      },
      "source": [
        "# Repetição até terminar"
      ]
    },
    {
      "cell_type": "markdown",
      "metadata": {
        "id": "NBwYsRYfb8Ny"
      },
      "source": [
        "## Prática 16\n",
        "Faça um programa que repita até encontrar o valor zero, sempre lendo um valor inteiro para a variável **v** dentro do laço de repetição. Se o valor lido for par, imprima também ele na saída. Teste com a sequência 8, 3, 2, 0.\n"
      ]
    },
    {
      "cell_type": "code",
      "metadata": {
        "id": "w9iGThEDV-lM"
      },
      "source": [
        ""
      ],
      "execution_count": null,
      "outputs": []
    },
    {
      "cell_type": "code",
      "metadata": {
        "id": "2vzqkenbV-lU"
      },
      "source": [
        "validar(16)"
      ],
      "execution_count": null,
      "outputs": []
    },
    {
      "cell_type": "markdown",
      "metadata": {
        "id": "15h8guiO8SjC"
      },
      "source": [
        "## Prática 17\n",
        "Faça um programa que repita lendo valores inteiros, colocados na variável **v**. Ele deve parar ao encontrar um valor zero. Use um acumulador **produto** para calcular o produto de todos os valores digitados (menos o último valor zero). Apresente o produto ao final. Teste com a sequência 8, -4, 2, 0.\n"
      ]
    },
    {
      "cell_type": "code",
      "metadata": {
        "id": "jDwkjxsW8TIr"
      },
      "source": [
        ""
      ],
      "execution_count": null,
      "outputs": []
    },
    {
      "cell_type": "code",
      "metadata": {
        "id": "CIpMJWJs8Tkb"
      },
      "source": [
        "validar(17)"
      ],
      "execution_count": null,
      "outputs": []
    },
    {
      "cell_type": "markdown",
      "metadata": {
        "id": "pXkqWtELcXYS"
      },
      "source": [
        "## Prática 18\n",
        "Faça um programa que repita lendo dois valores inteiros **v1** e **v2** de cada vez. Ele deve parar ao encontrar valores iguais em **v1** e **v2**. Dentro do laço, apresente a mensagem **v1 < v2** ou **v1 > v2** conforme o caso. Teste com as entradas 3, 5, 7, 2, 1, 1.\n"
      ]
    },
    {
      "cell_type": "code",
      "metadata": {
        "id": "hLJzVcKjV-gf"
      },
      "source": [
        ""
      ],
      "execution_count": null,
      "outputs": []
    },
    {
      "cell_type": "code",
      "metadata": {
        "id": "5p_qyf7_V-gp"
      },
      "source": [
        "validar(18)"
      ],
      "execution_count": null,
      "outputs": []
    },
    {
      "cell_type": "markdown",
      "metadata": {
        "id": "RoDTlruV0-x6"
      },
      "source": [
        "# Formatação de números"
      ]
    },
    {
      "cell_type": "markdown",
      "metadata": {
        "id": "nqHUpJ27dHWW"
      },
      "source": [
        "## Prática 19\n",
        "Escreva um programa que imprime as potências inteiras de dois, indo de 1 até 1024. Imprima a saída alinhada à direita e com preenchida com espaços, usando para isso a função **format** dentro do comando **print()**. Dica: use um acumulador que é sempre multiplicado por 2."
      ]
    },
    {
      "cell_type": "code",
      "metadata": {
        "id": "JLHhnxEUV-PC"
      },
      "source": [
        ""
      ],
      "execution_count": null,
      "outputs": []
    },
    {
      "cell_type": "code",
      "metadata": {
        "id": "Eu7NE5UnV-PR"
      },
      "source": [
        "validar(19)"
      ],
      "execution_count": null,
      "outputs": []
    },
    {
      "cell_type": "markdown",
      "metadata": {
        "id": "IxXJyb0Td7TR"
      },
      "source": [
        "## Prática 20\n",
        "Faça um programa que leia um número real chamado **preço**. Então faça uma repetição, que lê um **desconto** inteiro. O laço termina se desconto for zero, imprimindo **fim**. Caso contrário, deve ser impresso o preço com o desconto aplicado, usando duas casas decimais. Teste com a seguinte entrada: 240, 15, 27, 0."
      ]
    },
    {
      "cell_type": "code",
      "metadata": {
        "id": "QYiTlCVyd7Tb"
      },
      "source": [
        ""
      ],
      "execution_count": null,
      "outputs": []
    },
    {
      "cell_type": "code",
      "metadata": {
        "id": "-tzlOH7vd7Tp"
      },
      "source": [
        "validar(20)"
      ],
      "execution_count": null,
      "outputs": []
    },
    {
      "cell_type": "markdown",
      "metadata": {
        "id": "P7Lac0L643_K"
      },
      "source": [
        "# Exercícios"
      ]
    },
    {
      "cell_type": "markdown",
      "metadata": {
        "id": "AaW1CAqP5Cf2"
      },
      "source": [
        "## Exercício 21\n",
        "Faça um programa que leia dois valores inteiros **x** e **y**. Se **x** for maior do que **y**, troque estes dois valores (usando uma variável auxiliar **z**). Então o programa deve imprimir todos os inteiros no intervalo aberto (x,y), ou seja, excluindo tanto **x** como **y**. Teste com 42 e 38.\n"
      ]
    },
    {
      "cell_type": "code",
      "metadata": {
        "id": "fBnkW1hD4VL0"
      },
      "source": [
        ""
      ],
      "execution_count": null,
      "outputs": []
    },
    {
      "cell_type": "code",
      "metadata": {
        "id": "xeFq_H9F6XfX"
      },
      "source": [
        "validar(21)"
      ],
      "execution_count": null,
      "outputs": []
    },
    {
      "cell_type": "markdown",
      "metadata": {
        "id": "m-pU0-R1--O1"
      },
      "source": [
        "## Exercício 22\n",
        "Faça um programa que leia 5 valores inteiros e ao final imprima o maior. Você deve criar uma variável chamada **maior** e colocar o primeiro valor lido nela. Para os demais valores lidos, faça uma repetição, sempre comparando com **maior** e atualizando esta variável se for o caso. Teste com a sequência 3, 5, 4, 7 e 1. "
      ]
    },
    {
      "cell_type": "code",
      "metadata": {
        "id": "l42Yhbmt97o2"
      },
      "source": [
        ""
      ],
      "execution_count": null,
      "outputs": []
    },
    {
      "cell_type": "code",
      "metadata": {
        "id": "DlTEf7kn-_Fg"
      },
      "source": [
        "validar(22)"
      ],
      "execution_count": null,
      "outputs": []
    },
    {
      "cell_type": "markdown",
      "metadata": {
        "id": "rq-eoBAMASQl"
      },
      "source": [
        "## Exercício 23\n",
        "Faça um programa que calcule e imprima o somatório, a soma dos quadrados (use **c * c**) e a média aritmética entre os **n** primeiros números inteiros positivos. Teste com **n=50**."
      ]
    },
    {
      "cell_type": "code",
      "metadata": {
        "id": "6nDjjseb_7Sb"
      },
      "source": [
        ""
      ],
      "execution_count": null,
      "outputs": []
    },
    {
      "cell_type": "code",
      "metadata": {
        "id": "6dOaYciEATIb"
      },
      "source": [
        "validar(23)"
      ],
      "execution_count": null,
      "outputs": []
    },
    {
      "cell_type": "markdown",
      "metadata": {
        "id": "20-YqgpZAT07"
      },
      "source": [
        "## Exercício 24\n",
        "Faça um programa que multiplica dois números inteiros **m** e **n**, sem o recurso da operação de multiplicação, apresentando o resultado no final. Teste com 14 e 21."
      ]
    },
    {
      "cell_type": "code",
      "metadata": {
        "id": "NLajAZnhAUU1"
      },
      "source": [
        ""
      ],
      "execution_count": null,
      "outputs": []
    },
    {
      "cell_type": "code",
      "metadata": {
        "id": "Po4qm9vVAUpl"
      },
      "source": [
        "validar(24)"
      ],
      "execution_count": null,
      "outputs": []
    },
    {
      "cell_type": "markdown",
      "metadata": {
        "id": "d6pkQhwQAVaR"
      },
      "source": [
        "## Exercício 25\n",
        "Faça um programa que localiza o menor entre vários valores reais positivos. O conjunto de valores informados termina quando o usuário informar zero. Teste com a sequência 9.3, 1.7, 4.1, 2.3, 5.6 e 0."
      ]
    },
    {
      "cell_type": "code",
      "metadata": {
        "id": "xGjLXj23AVss"
      },
      "source": [
        ""
      ],
      "execution_count": null,
      "outputs": []
    },
    {
      "cell_type": "code",
      "metadata": {
        "id": "-hUXkVJAAV7U"
      },
      "source": [
        "validar(25)"
      ],
      "execution_count": null,
      "outputs": []
    }
  ]
}