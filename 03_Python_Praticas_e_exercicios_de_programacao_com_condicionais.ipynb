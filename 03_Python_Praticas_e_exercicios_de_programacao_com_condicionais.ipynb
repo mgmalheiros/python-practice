{
  "nbformat": 4,
  "nbformat_minor": 0,
  "metadata": {
    "colab": {
      "name": "Python - Práticas e exercícios de programação com condicionais (parte 1)",
      "provenance": [],
      "collapsed_sections": [
        "r0WpWpygRnTv"
      ]
    },
    "kernelspec": {
      "display_name": "Python 3",
      "language": "python",
      "name": "python3"
    },
    "language_info": {
      "codemirror_mode": {
        "name": "ipython",
        "version": 3
      },
      "file_extension": ".py",
      "mimetype": "text/x-python",
      "name": "python",
      "nbconvert_exporter": "python",
      "pygments_lexer": "ipython3",
      "version": "3.7.9"
    }
  },
  "cells": [
    {
      "cell_type": "markdown",
      "metadata": {
        "id": "r0WpWpygRnTv"
      },
      "source": [
        "# Instruções\n",
        "\n",
        "- IMPORTANTE: primeiro clique no círculo preto com a seta branca abaixo.\n",
        "\n",
        "- Faça as atividades em sequência, escrevendo ou alterando o trecho de código em cada célula para obter o resultado esperado.\n",
        "\n",
        "- Use **SHIFT + ENTER** para executar o código. O resultado será exibido logo abaixo.\n",
        "\n",
        "- Então valide o resultado com **SHIFT + ENTER** novamente, na célula que contém o comando **validar()**. Não remova ou altere esta linha.\n",
        "\n",
        "- Você pode desfazer a alteração em qualquer célula usando **CONTROL + Z**."
      ]
    },
    {
      "cell_type": "code",
      "metadata": {
        "id": "GoSb_6yyujWG"
      },
      "source": [
        "# Não se preocupe com este código. E nem faça alterações nele, por favor.\n",
        "\n",
        "import builtins\n",
        "import io\n",
        "\n",
        "from IPython.core.display import display, HTML\n",
        "\n",
        "# practice core v2.1\n",
        "\n",
        "_INPUT = []\n",
        "_PRINT = []\n",
        "\n",
        "def input(*args, **kwargs):\n",
        "    s = builtins.input(*args, **kwargs)\n",
        "    _INPUT.append(s)\n",
        "    return s\n",
        "\n",
        "def print(*args, **kwargs):\n",
        "    s = _sprint(*args, **kwargs)\n",
        "    _PRINT.append(s)\n",
        "    return builtins.print(s)\n",
        "\n",
        "def _sprint(*args, end='', **kwargs):\n",
        "    sio = io.StringIO()\n",
        "    builtins.print(*args, **kwargs, end=end, file=sio)\n",
        "    return sio.getvalue()\n",
        "\n",
        "def _correct(msg='Correto!'):\n",
        "    display(HTML('<p style=\"background-color: LawnGreen; padding: 8px 8px 8px 8px;\"><b>{}</b></p>'.format(msg)))\n",
        "\n",
        "def _incorrect(msg):\n",
        "    display(HTML('<p style=\"background-color: Tomato; padding: 8px 8px 8px 8px;\">{}</p>'.format(msg)))\n",
        "\n",
        "def _hint(msg):\n",
        "    display(HTML('<p style=\"background-color: LightBlue; padding: 8px 8px 8px 8px;\">{}</p>'.format(msg)))\n",
        "\n",
        "def _out(value): # expects a single value to be matched against the last cell result\n",
        "    if repr(_) == repr(value):\n",
        "        return 0\n",
        "\n",
        "    if _ == '':\n",
        "        _incorrect('Não houve resultado, verifique se você executou seu código com SHIFT+ENTER.')\n",
        "        return 1\n",
        "    \n",
        "    if type(_) != type(value):\n",
        "        if type(value) == int:\n",
        "            _hint('Dica: o resultado precisa ser do tipo inteiro.')\n",
        "        elif type(value) == float:\n",
        "            _hint('Dica: o resultado precisa ser do tipo real.')\n",
        "        elif type(value) == bool:\n",
        "            _hint('Dica: o resultado precisa ser do tipo lógico.')\n",
        "        elif type(value) == str:\n",
        "            _hint('Dica: o resultado precisa ser do tipo string.')\n",
        "        else:\n",
        "            _hint('Dica: o resultado precisa ser de outro tipo.')\n",
        "    _incorrect('Resultado incorreto, tente novamente.')\n",
        "    return 1\n",
        "\n",
        "def _src(terms): # expects a list of strings to be matched against the last cell executed\n",
        "    result = 0\n",
        "    for term in terms:\n",
        "        if term + ' ' not in _i:\n",
        "            _hint('Dica: verifique se você usou \"{}\" no seu código.'.format(term))\n",
        "            result = 1\n",
        "    return result\n",
        "\n",
        "def _inp(lines): # expects a list of strings to be matched against the read input\n",
        "    if repr(_INPUT) == repr(lines):\n",
        "        return 0\n",
        "\n",
        "    if len(_INPUT) == 0:\n",
        "        _incorrect('Não houve entrada, verifique se você usou o comando \"input()\" no seu código.')\n",
        "        return 1\n",
        "\n",
        "    if len(_INPUT) != len(lines):\n",
        "        if len(lines) == 1:\n",
        "            _hint('Dica: é esperada 1 entrada do usuário.')\n",
        "        else:\n",
        "            _hint('Dica: são esperadas {} entradas do usuário.'.format(len(lines)))\n",
        "    else:\n",
        "        _incorrect('Entrada com dados diferentes do que foi solicitado, tente novamente.')\n",
        "    return 1\n",
        "\n",
        "def _pri(lines): # expects a list of strings to be matched against the printed output\n",
        "    if repr(_PRINT) == repr(lines):\n",
        "        return 0\n",
        "\n",
        "    if len(_PRINT) == 0:\n",
        "        _incorrect('Não houve saída, verifique se você usou o comando \"print()\" em seu código.')\n",
        "        return 1\n",
        "\n",
        "    if len(_PRINT) != len(lines):\n",
        "        if len(lines) == 1:\n",
        "            _hint('Dica: é esperada 1 linha de saída.')\n",
        "        else:\n",
        "            _hint('Dica: são esperadas {} linhas de saída.'.format(len(lines)))\n",
        "    else:\n",
        "        _incorrect('Saída incorreta, tente novamente.')\n",
        "    return 1\n",
        "\n",
        "def _var(variables): # expects a dictionary of variable names and their respective values\n",
        "    result = 0\n",
        "    for name, value in variables.items():\n",
        "        if name not in globals():\n",
        "            _hint('Dica: a variável \"{}\" precisa ser declarada.'.format(name))\n",
        "            result = 1\n",
        "            continue\n",
        "\n",
        "        if repr(globals()[name]) == repr(value):\n",
        "            continue # OK by now\n",
        "\n",
        "        if type(globals()[name]) != type(value):\n",
        "            if type(value) == int:\n",
        "                _hint('Dica: a variável \"{}\" precisa ser do tipo inteiro.'.format(name))\n",
        "            elif type(value) == float:\n",
        "                _hint('Dica: a variável \"{}\" precisa ser do tipo real.'.format(name))\n",
        "            elif type(value) == bool:\n",
        "                _hint('Dica: a variável \"{}\" precisa ser do tipo lógico.'.format(name))\n",
        "            elif type(value) == str:\n",
        "                _hint('Dica: a variável \"{}\" precisa ser do tipo string.'.format(name))\n",
        "            else:\n",
        "                _hint('Dica: a variável \"{}\" precisa ser de outro tipo.'.format(name))\n",
        "        else:\n",
        "            _incorrect('Resultado incorreto para a variável \"{}\".'.format(name))\n",
        "        result = 1\n",
        "\n",
        "    return result\n",
        "\n",
        "def _clear():\n",
        "    global _INPUT, _PRINT\n",
        "    _INPUT = []\n",
        "    _PRINT = []\n",
        "    for name in set(globals()) - _GLOBALS:\n",
        "        if not name.startswith('_'):\n",
        "            #builtins.print('remove:', name)\n",
        "            globals().pop(name)\n",
        "\n",
        "def validar(n=None):\n",
        "    if n == None:\n",
        "        _incorrect('É preciso indicar o número da atividade. Volte o comando \"validar\" como estava antes!')\n",
        "    elif _test(n) == 0:\n",
        "        _correct()\n",
        "    _clear()\n",
        "\n",
        "_GLOBALS = set(globals())\n",
        "_GLOBALS.add('_GLOBALS')\n",
        "_GLOBALS.add('_test')"
      ],
      "execution_count": null,
      "outputs": []
    },
    {
      "cell_type": "code",
      "metadata": {
        "id": "2mi_jwCBZSVh"
      },
      "source": [
        "def _test(n):\n",
        "    if   n ==  1: return _var({'s': 'dado'}) + _inp(['dado'])\n",
        "    elif n ==  2: return _var({'s': '123', 'i': 123}) + _inp(['123'])\n",
        "    elif n ==  3: return _var({'s1': 'algo', 's2': 'ritmo'}) + _inp(['algo', 'ritmo']) + _pri(['algo ritmo'])\n",
        "    elif n ==  4: return _var({'a': 45.0, 'b': 67.0}) + _inp(['45', '67']) + _pri(['112.0'])\n",
        "    elif n ==  5: return _var({'f': 3.125, 'i': 3}) + _inp(['3.125']) + _pri(['0.125'])\n",
        "    elif n ==  6: return _var({'a': 8}) + _pri(['igual']) + _src(['if'])\n",
        "    elif n ==  7: return _var({'b': 3}) + _pri(['ok']) + _src(['if'])\n",
        "    elif n ==  8: return _var({'x': 15}) + _pri(['Maior que dez']) + _src(['if'])\n",
        "    elif n ==  9: return _var({'idade': 16}) + _pri(['dentro do intervalo']) + _src(['if', 'and'])\n",
        "    elif n == 10: return _var({'idade': 27}) + _pri(['fora do intervalo']) + _src(['if', 'or'])\n",
        "    elif n == 11: return _var({'idade': -34}) + _pri(['fora do intervalo']) + _src(['if', 'not', 'and'])\n",
        "    elif n == 12: return _var({'valor': 256}) + _pri(['par']) + _inp(['256']) + _src(['if', '%'])\n",
        "    elif n == 13: return _var({'x': 77, 'y': 55}) + _pri(['x maior que y']) + _inp(['77', '55']) + _src(['if'])\n",
        "    elif n == 14: return _var({'n': -64}) + _pri(['negativo']) + _src(['if', '%'])\n",
        "    elif n == 15: return _pri(['ok', 'ok']) + _src(['if', 'not', 'and', 'or'])\n",
        "    elif n == 16: return _var({'comprimento': 3.0, 'largura': 4.0}) + _pri(['retângulo'])\n",
        "    elif n == 17: return _var({'p1': 7.3, 'p2': 6.4, 't1': 5.2, 't2': 8.1}) + _pri(['6.75', 'exame'])\n",
        "    elif n == 18: return _var({'hora_1': 18, 'hora_2': 11}) + _pri(['5'])\n",
        "    elif n == 19: return _var({'a': 278, 'b': 193}) + _pri(['111'])\n",
        "    elif n == 20: return _var({'valor': 240.0, 'vezes': 6}) + _pri(['6 parcelas de 42.0'])    "
      ],
      "execution_count": null,
      "outputs": []
    },
    {
      "cell_type": "markdown",
      "metadata": {
        "id": "2nj3eRk6Q1_n"
      },
      "source": [
        "# Entrada e conversão de tipos"
      ]
    },
    {
      "cell_type": "markdown",
      "metadata": {
        "id": "oglGzfYvQhV6"
      },
      "source": [
        "## Prática 1\n",
        "Escreva um trecho de código que leia a palavra **dado**, digitada pelo do usuário, e armazene ela na variável **s**."
      ]
    },
    {
      "cell_type": "code",
      "metadata": {
        "id": "0n0wf32_QhV9"
      },
      "source": [
        ""
      ],
      "execution_count": null,
      "outputs": []
    },
    {
      "cell_type": "code",
      "metadata": {
        "id": "-lpiUZikQhWH"
      },
      "source": [
        "validar(1)"
      ],
      "execution_count": null,
      "outputs": []
    },
    {
      "cell_type": "markdown",
      "metadata": {
        "id": "9pWnRIliQhWP"
      },
      "source": [
        "## Prática 2\n",
        "Escreva um trecho de código que apresente a mensagem **'Entre com um inteiro: '**, armazenando o resultado na variável **s**. Então converta o conteúdo de **s** com a função **int()** e armazene o resultado na variável **i**. Teste com o valor 123."
      ]
    },
    {
      "cell_type": "code",
      "metadata": {
        "id": "_AjYoA3KQhWR"
      },
      "source": [
        ""
      ],
      "execution_count": null,
      "outputs": []
    },
    {
      "cell_type": "code",
      "metadata": {
        "id": "i8JjgD4xQhWZ"
      },
      "source": [
        "validar(2)"
      ],
      "execution_count": null,
      "outputs": []
    },
    {
      "cell_type": "markdown",
      "metadata": {
        "id": "j1nWk0dwQhWh"
      },
      "source": [
        "## Prática 3\n",
        "Escreva um trecho de código que solicita duas palavras do usuário, uma de cada vez. A primeira deve ser guardada em **s1** e a segunda em **s2**. Então imprima o valor de ambas as variáveis na mesma linha. Teste com as palavras **algo** e **ritmo**."
      ]
    },
    {
      "cell_type": "code",
      "metadata": {
        "id": "uPv8t18-QhWk"
      },
      "source": [
        ""
      ],
      "execution_count": null,
      "outputs": []
    },
    {
      "cell_type": "code",
      "metadata": {
        "id": "XzJS1dM9QhWq"
      },
      "source": [
        "validar(3)"
      ],
      "execution_count": null,
      "outputs": []
    },
    {
      "cell_type": "markdown",
      "metadata": {
        "id": "L3Wo_gvCQhWv"
      },
      "source": [
        "## Prática 4\n",
        "Escreva um trecho de código que solicite ao usuário dois números, convertendo estes para valores reais e colocando eles nas variáveis **a** e **b**. Então imprima a sua soma. Teste com os valores 45 e 67."
      ]
    },
    {
      "cell_type": "code",
      "metadata": {
        "id": "tXq-tLemQhWx"
      },
      "source": [
        ""
      ],
      "execution_count": null,
      "outputs": []
    },
    {
      "cell_type": "code",
      "metadata": {
        "id": "UvWTrUuGQhW4"
      },
      "source": [
        "validar(4)"
      ],
      "execution_count": null,
      "outputs": []
    },
    {
      "cell_type": "markdown",
      "metadata": {
        "id": "ahLYEpjZQhW_"
      },
      "source": [
        "## Prática 5\n",
        "Escreva um trecho de código que leia um número real e o coloque na variavel **f**. Use a função **int()** para armazener a parte inteira desse número na variável **i**. Em seguida, imprima apenas a parte fracionária do número (dica: valor real menos valor inteiro). Teste com 3.125."
      ]
    },
    {
      "cell_type": "code",
      "metadata": {
        "id": "p8MO-Y8HQhXA"
      },
      "source": [
        ""
      ],
      "execution_count": null,
      "outputs": []
    },
    {
      "cell_type": "code",
      "metadata": {
        "id": "t46KlnZuQhXG"
      },
      "source": [
        "validar(5)"
      ],
      "execution_count": null,
      "outputs": []
    },
    {
      "cell_type": "markdown",
      "metadata": {
        "id": "H_lCUPYGxxdb"
      },
      "source": [
        "# Estrutura condicional"
      ]
    },
    {
      "cell_type": "markdown",
      "metadata": {
        "id": "KfwoGIw2QhXO"
      },
      "source": [
        "## Prática 6\n",
        "Busque e corrija o erro de sintaxe no código para obter a saída **igual**."
      ]
    },
    {
      "cell_type": "code",
      "metadata": {
        "id": "Q1zFJrKoQhXP"
      },
      "source": [
        "a = 8\n",
        "if a == 8\n",
        "    print('igual')"
      ],
      "execution_count": null,
      "outputs": []
    },
    {
      "cell_type": "code",
      "metadata": {
        "id": "TL4wNK6MQhXV"
      },
      "source": [
        "validar(6)"
      ],
      "execution_count": null,
      "outputs": []
    },
    {
      "cell_type": "markdown",
      "metadata": {
        "id": "KgCBAclYVLjm"
      },
      "source": [
        "## Prática 7\n",
        "Busque e corrija o erro de sintaxe no código para obter a saída **ok**.\n"
      ]
    },
    {
      "cell_type": "code",
      "metadata": {
        "id": "BKysIQddVLjs"
      },
      "source": [
        "b = 3\n",
        "if b * b == 9:\n",
        "print('ok')"
      ],
      "execution_count": null,
      "outputs": []
    },
    {
      "cell_type": "code",
      "metadata": {
        "id": "0YMMPya_VLj9"
      },
      "source": [
        "validar(7)"
      ],
      "execution_count": null,
      "outputs": []
    },
    {
      "cell_type": "markdown",
      "metadata": {
        "id": "QyfeRxAzVMoA"
      },
      "source": [
        "## Prática 8\n",
        "Escreva um trecho de código que defina a variável **x** com o valor 15. Crie uma condição que imprima **'Maior que dez'** se o valor da variável atender esta condição."
      ]
    },
    {
      "cell_type": "code",
      "metadata": {
        "id": "GYIR7SZ4VMoC"
      },
      "source": [
        ""
      ],
      "execution_count": null,
      "outputs": []
    },
    {
      "cell_type": "code",
      "metadata": {
        "id": "342SY256VMoK"
      },
      "source": [
        "validar(8)"
      ],
      "execution_count": null,
      "outputs": []
    },
    {
      "cell_type": "markdown",
      "metadata": {
        "id": "80Pcdw4oV-O6"
      },
      "source": [
        "## Prática 9\n",
        "Escreva um trecho de código que atribua 16 a **idade**. Faça um teste para verificar se **idade** está dentro do intervalo [0,18] e então imprima a mensagem **dentro do intervalo** se for verdade. Use o operador **and**.\n"
      ]
    },
    {
      "cell_type": "code",
      "metadata": {
        "id": "ROdXECfQV_FN"
      },
      "source": [
        ""
      ],
      "execution_count": null,
      "outputs": []
    },
    {
      "cell_type": "code",
      "metadata": {
        "id": "WiZwS0ztV_FT"
      },
      "source": [
        "validar(9)"
      ],
      "execution_count": null,
      "outputs": []
    },
    {
      "cell_type": "markdown",
      "metadata": {
        "id": "GkSguw6zV-_u"
      },
      "source": [
        "## Prática 10\n",
        "Escreva um trecho de código que atribua 27 a **idade**. Faça um teste para verificar se **idade** está fora do intervalo [0,18] e então imprima a mensagem **fora do intervalo** se for verdade. Use o operador **or**.\n"
      ]
    },
    {
      "cell_type": "code",
      "metadata": {
        "id": "chLXVFlYV_AG"
      },
      "source": [
        ""
      ],
      "execution_count": null,
      "outputs": []
    },
    {
      "cell_type": "code",
      "metadata": {
        "id": "aizuDbb4V_AM"
      },
      "source": [
        "validar(10)"
      ],
      "execution_count": null,
      "outputs": []
    },
    {
      "cell_type": "markdown",
      "metadata": {
        "id": "MEb6FN-LV-58"
      },
      "source": [
        "## Prática 11\n",
        "Escreva um trecho de código que atribua -34 a **idade**. Faça um teste para verificar se **idade** está fora do intervalo [0,18] e então imprima a mensagem **fora do intervalo** se for verdade. Use apenas os operadores **not** e **and**.\n"
      ]
    },
    {
      "cell_type": "code",
      "metadata": {
        "id": "oTZAIW-dV-5-"
      },
      "source": [
        ""
      ],
      "execution_count": null,
      "outputs": []
    },
    {
      "cell_type": "code",
      "metadata": {
        "id": "fLJJkYnHV-6D"
      },
      "source": [
        "validar(11)"
      ],
      "execution_count": null,
      "outputs": []
    },
    {
      "cell_type": "markdown",
      "metadata": {
        "id": "RO2lEnx0Y9Mw"
      },
      "source": [
        "## Prática 12\n",
        "Escreva um trecho de código que leia um número inteiro para a variável **valor**. Então imprima **par** se o número for par e **ímpar** se for ímpar. Use dois condicionais em sequência. Teste com o valor 256."
      ]
    },
    {
      "cell_type": "code",
      "metadata": {
        "id": "oFUhGuT7V-2F"
      },
      "source": [
        ""
      ],
      "execution_count": null,
      "outputs": []
    },
    {
      "cell_type": "code",
      "metadata": {
        "id": "vBhnKBZcV-2L"
      },
      "source": [
        "validar(12)"
      ],
      "execution_count": null,
      "outputs": []
    },
    {
      "cell_type": "markdown",
      "metadata": {
        "id": "B5u2q_QlV-0M"
      },
      "source": [
        "## Prática 13\n",
        "Escreva um trecho de código que leia dois números inteiro **x** e **y**. Então imprima **x menor ou igual a y** ou **x maior que y** conforme o caso. Use dois condicionais em sequência. Teste com os valores 77 e 55."
      ]
    },
    {
      "cell_type": "code",
      "metadata": {
        "id": "5J1Kqp_iV-0N"
      },
      "source": [
        ""
      ],
      "execution_count": null,
      "outputs": []
    },
    {
      "cell_type": "code",
      "metadata": {
        "id": "zoaZoITvV-0W"
      },
      "source": [
        "validar(13)"
      ],
      "execution_count": null,
      "outputs": []
    },
    {
      "cell_type": "markdown",
      "metadata": {
        "id": "5bMIbnh2V-t8"
      },
      "source": [
        "## Prática 14\n",
        "Escreva um trecho de código que defina **n** como -64. Se **n** for negativo, imprima **negativo**. Apenas se **n** for maior que zero, imprima **positivo** e também faça um segundo teste, imprimindo **par** se for um número par."
      ]
    },
    {
      "cell_type": "code",
      "metadata": {
        "id": "HGBjsBi0V-t9"
      },
      "source": [
        ""
      ],
      "execution_count": null,
      "outputs": []
    },
    {
      "cell_type": "code",
      "metadata": {
        "id": "ZVmCWzjmV-uH"
      },
      "source": [
        "validar(14)"
      ],
      "execution_count": null,
      "outputs": []
    },
    {
      "cell_type": "markdown",
      "metadata": {
        "id": "9ZHvqkq638ks"
      },
      "source": [
        "# Exercícios"
      ]
    },
    {
      "cell_type": "markdown",
      "metadata": {
        "id": "3eojGRIRV-oq"
      },
      "source": [
        "## Exercício 15\n",
        "Escreva um trecho de código que comprove as [leis de De Morgan](https://pt.wikipedia.org/wiki/Teoremas_de_De_Morgan). Sejam quaisquer duas variáveis lógicas **A** e **B** definidas por você, imprima **ok** se **not (A or B) == (not A) and (not B)**. Além disso, também imprima **ok** se **not (A and B) = = (not A) or (not B)**."
      ]
    },
    {
      "cell_type": "code",
      "metadata": {
        "id": "HdJRowt8V-os"
      },
      "source": [
        ""
      ],
      "execution_count": null,
      "outputs": []
    },
    {
      "cell_type": "code",
      "metadata": {
        "id": "aJd7LMVIV-oy"
      },
      "source": [
        "validar(15)"
      ],
      "execution_count": null,
      "outputs": []
    },
    {
      "cell_type": "markdown",
      "metadata": {
        "id": "NBwYsRYfb8Ny"
      },
      "source": [
        "## Exercício 16\n",
        "Faça um programa que receba os valores reais **comprimento** e **largura** de uma figura geométrica. Detecte qual o tipo de figura, imprimindo **quadrado** ou **retângulo** na saída. Teste com os valores 3.0 e 4.0.\n"
      ]
    },
    {
      "cell_type": "code",
      "metadata": {
        "id": "w9iGThEDV-lM"
      },
      "source": [
        ""
      ],
      "execution_count": null,
      "outputs": []
    },
    {
      "cell_type": "code",
      "metadata": {
        "id": "2vzqkenbV-lU"
      },
      "source": [
        "validar(16)"
      ],
      "execution_count": null,
      "outputs": []
    },
    {
      "cell_type": "markdown",
      "metadata": {
        "id": "15h8guiO8SjC"
      },
      "source": [
        "## Exercício 17\n",
        "Escreva um programa que calcule a média aritmética final de um aluno, considerando que são realizadas duas provas e dois trabalhos, cujas notas são **p1=7.3, p2=6.4, t1=5.2 e t2=8.1**. Tanto as provas como os trabalhos têm o mesmo peso. Imprima a média final do aluno e imprima **exame** abaixo caso a média esteja abaixo de 7.0."
      ]
    },
    {
      "cell_type": "code",
      "metadata": {
        "id": "jDwkjxsW8TIr"
      },
      "source": [
        ""
      ],
      "execution_count": null,
      "outputs": []
    },
    {
      "cell_type": "code",
      "metadata": {
        "id": "CIpMJWJs8Tkb"
      },
      "source": [
        "validar(17)"
      ],
      "execution_count": null,
      "outputs": []
    },
    {
      "cell_type": "markdown",
      "metadata": {
        "id": "pXkqWtELcXYS"
      },
      "source": [
        "## Exercício 18\n",
        "Escreva um programa que representa duas quantidades de horas, **hora_1** e **hora_2**, respectivamente com 18 e 11. Calcule e imprima o resultado da soma, levando em conta que este não pode ser maior do que 24. Se for, ajuste para o horário correto do dia seguinte."
      ]
    },
    {
      "cell_type": "code",
      "metadata": {
        "id": "hLJzVcKjV-gf"
      },
      "source": [
        ""
      ],
      "execution_count": null,
      "outputs": []
    },
    {
      "cell_type": "code",
      "metadata": {
        "id": "5p_qyf7_V-gp"
      },
      "source": [
        "validar(18)"
      ],
      "execution_count": null,
      "outputs": []
    },
    {
      "cell_type": "markdown",
      "metadata": {
        "id": "nqHUpJ27dHWW"
      },
      "source": [
        "## Exercício 19\n",
        "Escreva um programa que obtém do usuário dois ângulos inteiros **a** e **b**, em graus. O programa deve apresentar o resultado da soma, sempre dentro do intervalo [0,360). Ou seja, caso a soma for maior ou igual a 360 então deve ser ajustada usando o operador **%**. Teste com os ângulos 278 e 193 graus."
      ]
    },
    {
      "cell_type": "code",
      "metadata": {
        "id": "JLHhnxEUV-PC"
      },
      "source": [
        ""
      ],
      "execution_count": null,
      "outputs": []
    },
    {
      "cell_type": "code",
      "metadata": {
        "id": "Eu7NE5UnV-PR"
      },
      "source": [
        "validar(19)"
      ],
      "execution_count": null,
      "outputs": []
    },
    {
      "cell_type": "markdown",
      "metadata": {
        "id": "IxXJyb0Td7TR"
      },
      "source": [
        "## Exercício 20\n",
        "Faça um programa que calcule uma compra parcelada. Você deve ler o **valor** real à vista de um produto e o número inteiro de **vezes** em que será parcelado. Se o número de vezes for até três, não há juros (o valor é simplesmente dividido). Se for em quatro ou mais vezes, o valor de cada parcela é acrescido de 5%. Apresente o resultado com o formato **3 parcelas de 45.0**. Teste com um valor de 240.0 reais em parcelado em 6 vezes."
      ]
    },
    {
      "cell_type": "code",
      "metadata": {
        "id": "QYiTlCVyd7Tb"
      },
      "source": [
        ""
      ],
      "execution_count": null,
      "outputs": []
    },
    {
      "cell_type": "code",
      "metadata": {
        "id": "-tzlOH7vd7Tp"
      },
      "source": [
        "validar(20)"
      ],
      "execution_count": null,
      "outputs": []
    }
  ]
}